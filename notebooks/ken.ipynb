{
 "cells": [
  {
   "cell_type": "code",
   "execution_count": null,
   "metadata": {},
   "outputs": [],
   "source": [
    "import sys\n",
    "import os\n",
    "from datetime import datetime, timedelta, timezone\n",
    "import requests\n",
    "from zoneinfo import ZoneInfo\n",
    "from collections import defaultdict, deque\n",
    "import math\n",
    "from pprint import pprint\n",
    "from operator import itemgetter\n",
    "\n",
    "# Add the project root directory to sys.path\n",
    "project_root = os.path.abspath(os.path.join(os.getcwd(), \"../app\"))\n",
    "if project_root not in sys.path:\n",
    "    sys.path.append(project_root)\n",
    "\n",
    "from query import Query\n",
    "from metrics import Metrics"
   ]
  },
  {
   "cell_type": "code",
   "execution_count": null,
   "metadata": {},
   "outputs": [],
   "source": [
    "# Use last season stats so there aren't any spoilers\n",
    "current = False\n",
    "league_id = \"67269\" if current else \"97108\"\n",
    "game_id = 453 if current else 427\n",
    "league_key = f\"{game_id}.l.{league_id}\"\n",
    "# league_key = \"386.l.88439\"\n",
    "query = await Query.create(league_key)"
   ]
  },
  {
   "cell_type": "code",
   "execution_count": null,
   "metadata": {},
   "outputs": [],
   "source": [
    "metrics = Metrics(query)"
   ]
  },
  {
   "cell_type": "code",
   "execution_count": null,
   "metadata": {},
   "outputs": [],
   "source": [
    "await metrics.get_draft_busts_steals()"
   ]
  },
  {
   "cell_type": "code",
   "execution_count": null,
   "metadata": {},
   "outputs": [],
   "source": [
    "await query.get_response(f\"/league/{league_key}\")"
   ]
  },
  {
   "cell_type": "code",
   "execution_count": null,
   "metadata": {},
   "outputs": [],
   "source": [
    "query.player_points_by_date = {}"
   ]
  },
  {
   "cell_type": "code",
   "execution_count": null,
   "metadata": {},
   "outputs": [],
   "source": [
    "async def get_roster_by_team_and_date():\n",
    "    # Get roster data from draft and transactions\n",
    "    teams = query.get_teams()\n",
    "    url = f\"/league/{query.league_key}/draftresults\"\n",
    "    response = await query.get_response(url)\n",
    "    draft_results = response[\"league\"][\"draft_results\"]\n",
    "    rosters = {team_key: defaultdict(set) for team_key in teams} # by team and date\n",
    "    cur_date = query.league_start_date_str\n",
    "    for draft_pick in draft_results:\n",
    "        rosters[draft_pick[\"team_key\"]][cur_date].add(draft_pick[\"player_key\"])\n",
    "    url = f\"/league/{query.league_key}/transactions\"\n",
    "    response = await query.get_response(url)\n",
    "    transactions = list(reversed(response[\"league\"][\"transactions\"]))\n",
    "    # transaction_types = set(transaction[\"type\"] for transaction in transactions for player in transaction[\"players\"] if players in transaction)\n",
    "    # pprint(transactions)\n",
    "    for transaction in transactions:\n",
    "        cur_date = datetime.fromtimestamp(int(transaction[\"timestamp\"])).strftime(\"%Y-%m-%d\")\n",
    "        if not \"players\" in transaction:\n",
    "            continue\n",
    "        for player in transaction[\"players\"]:\n",
    "            for team_key in [player[\"transaction_data\"].get(\"destination_team_key\", None), player[\"transaction_data\"].get(\"source_team_key\", None)]:\n",
    "                if team_key in rosters and cur_date not in rosters[team_key]:\n",
    "                    rosters[team_key][cur_date] = rosters[team_key][list(rosters[team_key].keys())[-1]].copy()\n",
    "            if player[\"transaction_data\"][\"type\"] in [\"add\", \"trade\"]:\n",
    "                rosters[player[\"transaction_data\"][\"destination_team_key\"]][cur_date].add(player[\"player_key\"])\n",
    "            if player[\"transaction_data\"][\"type\"] in [\"drop\", \"trade\"]:\n",
    "                rosters[player[\"transaction_data\"][\"source_team_key\"]][cur_date].remove(player[\"player_key\"])\n",
    "    return rosters"
   ]
  },
  {
   "cell_type": "code",
   "execution_count": null,
   "metadata": {},
   "outputs": [],
   "source": [
    "async def get_players_points_from_date(player_keys, start_date_str):\n",
    "    query_player_keys = []\n",
    "    for player_key in player_keys:\n",
    "        if player_key not in query.player_points_by_date:\n",
    "            query_player_keys.append(player_key)\n",
    "    dates = [(datetime.strptime(start_date_str, \"%Y-%m-%d\") + timedelta(days=i)).strftime(\"%Y-%m-%d\") for i in range((datetime.strptime(query.league_end_date_str, \"%Y-%m-%d\") - datetime.strptime(start_date_str, \"%Y-%m-%d\")).days + 1)]\n",
    "    dates_csv = \",\".join(dates)\n",
    "    for i in range(0, len(query_player_keys), 25):\n",
    "        player_keys_csv = \",\".join(query_player_keys[i : min(i + 25, len(query_player_keys))])\n",
    "        url = f\"/league/{query.league_key}/players;player_keys={player_keys_csv}/stats_collection;types=date;date={dates_csv}\"\n",
    "        response = await query.get_response(url)\n",
    "        cur_players = response[\"league\"][\"players\"]\n",
    "        for player in cur_players:\n",
    "            query.player_points_by_date[player[\"player_key\"]] = player"
   ]
  },
  {
   "cell_type": "code",
   "execution_count": null,
   "metadata": {},
   "outputs": [],
   "source": [
    "def calculate_optimal_team_points_for_date(player_keys, date_str):\n",
    "    \"\"\"\n",
    "    Params:\n",
    "        \n",
    "    \"\"\"\n",
    "    def get_player_points(player_key, date_str):\n",
    "        return next((float(player_points[\"total\"]) for player_points in query.player_points_by_date[player_key][\"player_stats_collection\"][\"player_points\"] if player_points[\"date\"] == date_str))\n",
    "    \n",
    "    player_keys = [player_key for player_key in player_keys if get_player_points(player_key, date_str) > 0]\n",
    "    player_keys = sorted(player_keys, key=lambda x: get_player_points(x, date_str), reverse=True)\n",
    "    league_position_slots = query.league_roster_positions\n",
    "    position_slots = defaultdict(set) # Set of player keys for each position\n",
    "    total_points_for_date = 0\n",
    "    for player_key in player_keys:\n",
    "        # TODO: Eventually check if positions are full to improve performance, but need to consider leagues with different settings\n",
    "        def is_roster_full():\n",
    "            return all(len(position_slots.get(pos, set())) == league_position_slots[pos] for pos in league_position_slots)\n",
    "\n",
    "        def find_swap_path(player_key):\n",
    "            \"\"\"\n",
    "            Assigns players to roster positions in order to maximaize total roster points.\n",
    "            Approaches this as a graphing problem where each position is a node and players with multiple position eligibility are edges.\n",
    "            BFS is used to find the shortest path from the current player's positions to a position with an open slot.\n",
    "            Params:\n",
    "                player_key (string): player_key\n",
    "            \"\"\"\n",
    "            nonlocal total_points_for_date\n",
    "            queue = deque()\n",
    "            visited = set()\n",
    "            parent_map = {}\n",
    "            # print(f'{players_dict[player_key][\"name\"][\"full\"]} {players_dict[player_key][\"display_position\"]}')\n",
    "\n",
    "            for pos in query.player_points_by_date[player_key][\"display_position\"].split(\",\"):\n",
    "                queue.append({\"player_key\": player_key, \"cur_pos\": None, \"new_pos\": pos})\n",
    "                visited.add(pos)\n",
    "                parent_map[pos] = {\"player_key\": player_key, \"cur_pos\": None, \"new_pos\": pos}\n",
    "            \n",
    "            while queue:\n",
    "                cur_player_key, cur_pos, new_pos = itemgetter(\"player_key\", \"cur_pos\", \"new_pos\")(queue.popleft())\n",
    "                # print(cur_player_key, cur_pos, new_pos)\n",
    "\n",
    "                if (len(position_slots.get(new_pos, set())) < league_position_slots[new_pos]):\n",
    "                    # If player can be fit into starting position\n",
    "                    total_points_for_date += get_player_points(player_key, date_str)\n",
    "                    path = []\n",
    "                    while True:\n",
    "                        path.append({\"player_key\": cur_player_key, \"old_pos\": cur_pos, \"new_pos\": new_pos})\n",
    "                        if cur_pos is None:\n",
    "                            break\n",
    "                        cur_player_key, cur_pos, new_pos = itemgetter(\"player_key\", \"cur_pos\", \"new_pos\")(parent_map[cur_pos])\n",
    "                    path.reverse()\n",
    "                    return path\n",
    "                \n",
    "                for assigned_player_key in position_slots[new_pos]:\n",
    "                    for pos in query.player_points_by_date[assigned_player_key][\"display_position\"].split(\",\"):\n",
    "                        if pos not in visited:\n",
    "                            # print(\"hello\", {\"player_key\": assigned_player_key, \"cur_pos\": new_pos, \"new_pos\": pos})\n",
    "                            queue.append({\"player_key\": assigned_player_key, \"cur_pos\": new_pos, \"new_pos\": pos})\n",
    "                            visited.add(pos)\n",
    "                            parent_map[pos] = {\"player_key\": assigned_player_key, \"cur_pos\": new_pos, \"new_pos\": pos}\n",
    "            return None\n",
    "\n",
    "        def swap_players(path):\n",
    "            nonlocal position_slots\n",
    "            for swap in path:\n",
    "                position_slots[swap[\"new_pos\"]].add(swap[\"player_key\"])\n",
    "                if swap[\"old_pos\"] is not None:\n",
    "                    position_slots[swap[\"old_pos\"]].remove(swap[\"player_key\"])\n",
    "\n",
    "        if is_roster_full():\n",
    "            break\n",
    "\n",
    "        swap_path = find_swap_path(player_key)\n",
    "        # print(swap_path)\n",
    "        if swap_path is not None:\n",
    "            swap_players(swap_path)\n",
    "    # pprint({pos: [f'{players_dict[player_key][\"name\"][\"full\"]} {players_dict[player_key][\"display_position\"]} {players_dict[player_key][\"player_stats_collection\"][\"player_points\"][0][\"total\"]}' for player_key in player_keys] for pos, player_keys in position_slots.items()})\n",
    "    return total_points_for_date\n"
   ]
  },
  {
   "cell_type": "code",
   "execution_count": null,
   "metadata": {},
   "outputs": [],
   "source": [
    "url = f\"/teams;team_keys=427.l.97108.t.1,427.l.97108.t.2/roster;date=2023-10-10/players/stats_collection;types=date;date=2023-10-10\"\n",
    "resp = await query.get_response(url)\n",
    "players = resp[\"teams\"]\n",
    "players"
   ]
  },
  {
   "cell_type": "code",
   "execution_count": null,
   "metadata": {},
   "outputs": [],
   "source": [
    "total_points_for_date = calculate_optimal_team_points_for_date(players, \"2023-10-14\")\n",
    "print(total_points_for_date)"
   ]
  },
  {
   "cell_type": "code",
   "execution_count": null,
   "metadata": {},
   "outputs": [],
   "source": [
    "url = f\"/league/{query.league_key};out=standings,settings\"\n",
    "resp = await query.get_response(url)\n",
    "pprint(resp)"
   ]
  },
  {
   "cell_type": "code",
   "execution_count": null,
   "metadata": {},
   "outputs": [],
   "source": [
    "url = f\"/team/427.l.97108.t.1/roster;date=2023-10-10,2023-10-11/players/stats;type=date;date=2023-10-10\"\n",
    "resp = await query.get_response(url)\n",
    "pprint(resp[\"team\"][\"roster\"][\"players\"])"
   ]
  },
  {
   "cell_type": "code",
   "execution_count": null,
   "metadata": {},
   "outputs": [],
   "source": [
    "def get_players_for_week(week):\n",
    "    \"\"\"\n",
    "    Get all players across all teams for a given week.\n",
    "    \"\"\"\n",
    "    dates = query.get_dates_by_week(week)\n",
    "    player_keys = set([player_key for team_key in rosters for date_str in dates if date_str in rosters[team_key] for player_key in rosters[team_key][date_str]])\n",
    "    return player_keys"
   ]
  },
  {
   "cell_type": "code",
   "execution_count": null,
   "metadata": {},
   "outputs": [],
   "source": [
    "rosters = await get_roster_by_team_and_date()\n",
    "pprint(rosters)"
   ]
  },
  {
   "cell_type": "code",
   "execution_count": null,
   "metadata": {},
   "outputs": [],
   "source": [
    "# Doesn't really account for pickuops made at the end of last week for the next week\n",
    "stream_points_by_team = defaultdict(float)\n",
    "for week in range(query.league_start_week, query.league_end_week + 1):\n",
    "    dates_in_week = query.get_dates_by_week(week)\n",
    "    players = get_players_for_week(week)\n",
    "    await get_players_points_from_date(players, dates_in_week[0])\n",
    "    for team in query.teams:\n",
    "        roster_date_start = next((cur_date_str for cur_date_str in reversed(list(rosters[team[\"team_key\"]].keys())) if datetime.strptime(cur_date_str, \"%Y-%m-%d\") <= datetime.strptime(dates_in_week[0], \"%Y-%m-%d\")), None)\n",
    "        for date_str in dates_in_week:\n",
    "            # expected_points: if no moves were made, actual_points: accounting for transactions made\n",
    "            roster_date = next((cur_date_str for cur_date_str in reversed(list(rosters[team[\"team_key\"]].keys())) if datetime.strptime(cur_date_str, \"%Y-%m-%d\") <= datetime.strptime(date_str, \"%Y-%m-%d\")), None)\n",
    "            actual_roster = rosters[team[\"team_key\"]][roster_date]\n",
    "            expected_roster = rosters[team[\"team_key\"]][roster_date_start]\n",
    "            actual_points = calculate_optimal_team_points_for_date(actual_roster, date_str)\n",
    "            expected_points = calculate_optimal_team_points_for_date(expected_roster, date_str)\n",
    "            stream_points_by_team[team[\"team_key\"]] += (actual_points - expected_points)"
   ]
  },
  {
   "cell_type": "code",
   "execution_count": null,
   "metadata": {},
   "outputs": [],
   "source": [
    "[f\"{query.get_team_name_from_key(team_key)} {points}\" for team_key, points in stream_points_by_team.items()]"
   ]
  },
  {
   "cell_type": "code",
   "execution_count": null,
   "metadata": {},
   "outputs": [],
   "source": [
    "for team_key, points in stream_points_by_team.items():\n",
    "    print(f\"{query.get_team_name_from_key(team_key)}: {points}\")"
   ]
  },
  {
   "cell_type": "code",
   "execution_count": null,
   "metadata": {},
   "outputs": [],
   "source": [
    "def is_first_day_of_week(date_str):\n",
    "    return not all(date_str != game_week[\"start\"] for game_week in query.game_weeks)"
   ]
  },
  {
   "cell_type": "code",
   "execution_count": null,
   "metadata": {},
   "outputs": [],
   "source": [
    "def get_week_from_date(date):\n",
    "    return next((int(game_week[\"week\"]) for game_week in query.game_weeks if datetime.strptime(game_week[\"end\"], \"%Y-%m-%d\") + timedelta(1) > date), None) # Add 1 to date for edge case"
   ]
  },
  {
   "cell_type": "code",
   "execution_count": null,
   "metadata": {},
   "outputs": [],
   "source": [
    "def get_first_day_of_week(week):\n",
    "    return next(datetime.strptime(game_week[\"start\"], \"%Y-%m-%d\") for game_week in query.game_weeks if int(game_week[\"week\"]) == week)"
   ]
  },
  {
   "cell_type": "code",
   "execution_count": null,
   "metadata": {},
   "outputs": [],
   "source": [
    "# Get all transactions\n",
    "url = f'{BASE_URL}/league/{query.league_key}/transactions'\n",
    "transactions = list(reversed(query.get_response(url)[\"league\"][\"transactions\"]))\n",
    "players_daily = defaultdict(set)\n",
    "players_weekly = defaultdict(set)\n",
    "last_transaction_date = datetime.strptime(query.league_start_date_str, \"%Y-%m-%d\")\n",
    "last_transaction_week = query.league_start_week\n",
    "points_by_team = defaultdict(float)\n",
    "for transaction in transactions[:46]:\n",
    "    if not \"players\" in transaction:\n",
    "        continue\n",
    "    # pprint(transaction[\"players\"])\n",
    "    drop_player = next((player for player in transaction[\"players\"] if player[\"transaction_data\"][\"type\"] == \"drop\"), None)\n",
    "    if drop_player is not None:\n",
    "        transaction_date = datetime.fromtimestamp(int(transaction[\"timestamp\"]))\n",
    "        transaction_week = get_week_from_date(transaction_date)\n",
    "        if not transaction_date.strftime(\"%Y-%m-%d\") == last_transaction_date.strftime(\"%Y-%m-%d\") and (transaction_week == last_transaction_week or is_first_day_of_week(transaction_date.strftime(\"%y-%m-%d\"))):\n",
    "            dates = [(last_transaction_date + timedelta(days=i)).strftime(\"%Y-%m-%d\") for i in range((transaction_date.date() - last_transaction_date.date()).days)]\n",
    "            points_by_team_cur = get_players_points_by_date(players_daily, dates)\n",
    "            for key, value in points_by_team_cur.items():\n",
    "                points_by_team[key] += value\n",
    "            players_daily[drop_player[\"player_key\"]].add(drop_player[\"transaction_data\"][\"source_team_key\"])\n",
    "            last_transaction_date = transaction_date\n",
    "        elif not transaction_date.strftime(\"%Y-%m-%d\") == last_transaction_date.strftime(\"%Y-%m-%d\") and transaction_week != last_transaction_week and not is_first_day_of_week(transaction_date.strftime(\"%y-%m-%d\")):\n",
    "            # Get daily points up until last day of that week\n",
    "            week_first_date = get_first_day_of_week(transaction_week)\n",
    "            dates = [(last_transaction_date + timedelta(days=i)).strftime(\"%Y-%m-%d\") for i in range((week_first_date.date() - last_transaction_date.date()).days)]\n",
    "            points_by_team_cur = get_players_points_by_date(players_daily, dates)\n",
    "            for key, value in points_by_team_cur.items():\n",
    "                points_by_team[key] += value\n",
    "            weeks = [week for week in range(last_transaction_week, transaction_week)]\n",
    "            get_players_points_by_week(players_weekly, weeks)\n",
    "            for key, value in players_daily.items():\n",
    "                players_weekly[key].union(value)\n",
    "            players_daily = defaultdict(set)\n",
    "            last_transaction_date = transaction_date\n",
    "            last_transaction_week = transaction_week\n",
    "        players_daily[drop_player[\"player_key\"]].add(drop_player[\"transaction_data\"][\"source_team_key\"])"
   ]
  },
  {
   "cell_type": "code",
   "execution_count": null,
   "metadata": {},
   "outputs": [],
   "source": [
    "url = f'/league/{query.league_key}/players;player_keys=427.p.5391/stats;type=week;week=1'\n",
    "await query.get_response(url)"
   ]
  },
  {
   "cell_type": "code",
   "execution_count": null,
   "metadata": {},
   "outputs": [],
   "source": [
    "url = f'{BASE_URL}/league/{query.league_key}/transactions'\n",
    "transactions = list(reversed(query.get_response(url)[\"league\"][\"transactions\"]))\n",
    "transactions"
   ]
  },
  {
   "cell_type": "code",
   "execution_count": null,
   "metadata": {},
   "outputs": [],
   "source": [
    "points_by_team"
   ]
  },
  {
   "cell_type": "code",
   "execution_count": null,
   "metadata": {},
   "outputs": [],
   "source": [
    "query.get_team_name_from_key(\"427.l.97108.t.2\")"
   ]
  },
  {
   "cell_type": "code",
   "execution_count": null,
   "metadata": {},
   "outputs": [],
   "source": [
    "'''\n",
    "Get's daily scores for each matchup of the week.\n",
    "'''\n",
    "def get_matchups_by_week(week):\n",
    "    dates = get_dates_by_week(week)\n",
    "    resp = query.get_response(\n",
    "        f\"https://fantasysports.yahooapis.com/fantasy/v2/league/{league_info.league_key}/scoreboard;week={week}/matchups/teams/stats_collection;types=date;date={','.join(dates)}\", \n",
    "    )\n",
    "    return teams_dict"
   ]
  },
  {
   "cell_type": "code",
   "execution_count": null,
   "metadata": {},
   "outputs": [],
   "source": [
    "def get_matchups():\n",
    "    weeks = \",\".join([str(week) for week in range(query.league_start_week, query.league_end_week + 1)])\n",
    "    url = f\"https://fantasysports.yahooapis.com/fantasy/v2/league/{league_key}/scoreboard;week={weeks}\"\n",
    "    return query.get_response(url)[\"league\"][\"scoreboard\"][\"matchups\"]"
   ]
  },
  {
   "cell_type": "code",
   "execution_count": null,
   "metadata": {},
   "outputs": [],
   "source": [
    "matchups = get_matchups()"
   ]
  },
  {
   "cell_type": "code",
   "execution_count": null,
   "metadata": {},
   "outputs": [],
   "source": [
    "matchups"
   ]
  },
  {
   "cell_type": "code",
   "execution_count": null,
   "metadata": {},
   "outputs": [],
   "source": [
    "def get_opp_team_by_week(team_key, week):\n",
    "    # TODO make this a dict to improve performance so don't have to search through list every time\n",
    "    opp_key = [matchup[\"teams\"][0][\"team_key\"] if matchup[\"teams\"][0][\"team_key\"] != team_key else matchup[\"teams\"][1][\"team_key\"] for matchup in matchups if int(matchup[\"week\"]) == week and team_key in [team[\"team_key\"] for team in matchup[\"teams\"]]]\n",
    "    return opp_key[0] if len(opp_key) else None"
   ]
  },
  {
   "cell_type": "code",
   "execution_count": null,
   "metadata": {},
   "outputs": [],
   "source": [
    "HITS_STAT_ID = 31\n",
    "hits_by_team = defaultdict(int)\n",
    "top_player_by_team = {}\n",
    "opp_players_by_team = defaultdict(lambda: defaultdict(lambda: {\"name\": None, \"image_url\": None, \"points\": 0}))\n",
    "for team in query.teams:\n",
    "    team_points_by_nhl_team = defaultdict(float)\n",
    "    team_points_by_player = defaultdict(lambda: {\"name\": None, \"image_url\": None, \"points\": 0})\n",
    "    for week in range(query.league_start_week, query.league_end_week + 1):\n",
    "        opp_team = get_opp_team_by_week(team[\"team_key\"], week)\n",
    "        if not opp_team:\n",
    "            # Means this team had no matchup for the current week, skip\n",
    "            continue\n",
    "        week_end_date = query.get_dates_by_week(week)[-1]\n",
    "        url = f\"https://fantasysports.yahooapis.com/fantasy/v2/team/{team['team_key']}/roster;week={week}/players/stats;type=week;week={week}\"\n",
    "        roster_players = query.get_response(url)[\"team\"][\"roster\"][\"players\"]\n",
    "        for player in roster_players:\n",
    "            # hits_by_team[team[\"team_key\"]] += next(iter([int(stat[\"value\"]) for stat in player[\"player_stats\"][\"stats\"] if int(stat[\"stat_id\"]) == HITS_STAT_ID and stat[\"value\"] != \"-\"]), 0)\n",
    "            \n",
    "            if not player[\"player_points\"][\"total\"]:\n",
    "                # Can skip rest if no points\n",
    "                continue\n",
    "\n",
    "            # Team points by player\n",
    "            # if team_points_by_player[player[\"player_key\"]][\"name\"] is None:\n",
    "            #     team_points_by_player[player[\"player_key\"]][\"name\"] = player[\"name\"][\"full\"]\n",
    "            #     team_points_by_player[player[\"player_key\"]][\"image_url\"] = player[\"image_url\"]\n",
    "            # team_points_by_player[player[\"player_key\"]][\"points\"] += float(player[\"player_points\"][\"total\"])\n",
    "            \n",
    "            # Team points by opposing player\n",
    "            if opp_players_by_team[opp_team][player[\"player_key\"]][\"name\"] is None:\n",
    "                opp_players_by_team[opp_team][player[\"player_key\"]][\"name\"] = player[\"name\"][\"full\"]\n",
    "                opp_players_by_team[opp_team][player[\"player_key\"]][\"image_url\"] = player[\"image_url\"]\n",
    "            opp_players_by_team[opp_team][player[\"player_key\"]][\"points\"] += float(player[\"player_points\"][\"total\"])\n",
    "\n",
    "            # Team points by NHL team\n",
    "            # player_game_log = query.get_game_log_by_player(player[\"player_key\"], player[\"name\"][\"full\"], player[\"display_position\"])\n",
    "            # nhl_team = query.get_player_team_on_date(player_game_log, week_end_date)\n",
    "            # team_points_by_nhl_team[nhl_team] += float(player[\"player_points\"][\"total\"])\n",
    "            \n",
    "    # team_points_by_nhl_team = sorted(team_points_by_nhl_team.items(), key=lambda item: item[1], reverse=True)\n",
    "    # team_points_by_player = sorted(team_points_by_player.values(), key=lambda value: value[\"points\"], reverse=True)\n",
    "    # top_nhl_team = team_points_by_nhl_team[0][0]\n",
    "    # top_nhl_team_pct = round(team_points_by_nhl_team[0][1]/sum([row[1] for row in team_points_by_nhl_team])*100)\n",
    "    # top_player = team_points_by_player[0]\n",
    "    # top_player_pct = round(top_player[\"points\"]/sum([row[\"points\"] for row in team_points_by_player])*100)\n",
    "    # top_player_by_team[team[\"team_key\"]] = {\"player_name\": top_player[\"name\"], \"player_img\": top_player[\"image_url\"], \"player_pct\": top_player_pct}\n",
    "top_opp_player_by_team = {k: sorted(v.values(), key=lambda x: x[\"points\"], reverse=True)[0] for k, v in opp_players_by_team.items()}\n",
    "top_opp_player_by_team_sorted = sorted(top_opp_player_by_team.items(), key=lambda x: x[1][\"points\"], reverse=True)\n",
    "top_opp_player_by_team_sorted_ret = [{\"rank\": i+1, \"image_url\": v[\"image_url\"], \"main_text\": v[\"name\"], \"sub_text\": query.get_team_name_from_key(k), \"stat\": round(v[\"points\"], 1)} for i, [k, v] in enumerate(top_opp_player_by_team_sorted)]\n",
    "top_opp_player_by_team_sorted_ret\n",
    "# top_player_by_team_sorted = sorted(top_player_by_team.items(), key=lambda x: x[1][\"player_pct\"], reverse=True)\n",
    "# top_player_by_team_sorted_ret = [\n",
    "#     {\n",
    "#         \"rank\": i+1, \n",
    "#         \"image_url\": v[\"player_img\"], \n",
    "#         \"main_text\": v[\"player_name\"], \n",
    "#         \"sub_text\": query.get_team_name_from_key(k), \n",
    "#         \"stat\": v[\"player_pct\"]\n",
    "#     } for i, [k, v] in enumerate(top_player_by_team_sorted)\n",
    "# ]\n",
    "# top_player_by_team_sorted_ret"
   ]
  },
  {
   "cell_type": "code",
   "execution_count": null,
   "metadata": {},
   "outputs": [],
   "source": [
    "def get_team_name(team_key):\n",
    "    team_name = next(team[\"name\"] for team in teams if team[\"team_key\"] == team_key)\n",
    "    return team_name"
   ]
  },
  {
   "cell_type": "code",
   "execution_count": null,
   "metadata": {},
   "outputs": [],
   "source": [
    "def get_all_team_rosters_by_date(date):\n",
    "    \"\"\"\n",
    "    Parameters:\n",
    "    date (str): Date to get roster for in YYYY-MM-DD format\n",
    "\n",
    "    Returns:\n",
    "    List of teams with the roster details for that date\n",
    "    (does not include stats, need to make a separate reequest to get stats for all these players)\n",
    "    Trieed everything, can't get stats if you're getting data for multiple teams\n",
    "    f\"{BASE_URL}/league/{league_key}/teams/roster;date={date}/players/stats;type=date;date={date}\" doesn't work\n",
    "    \"\"\"\n",
    "    league_key = f\"{game_id}.l.{league_id}\"\n",
    "    url = f\"{BASE_URL}/league/{league_key}/teams/roster;date={date}/players\" # TODO: Would it be better to store team_keys once and make request to teams endpoint instad of league?\n",
    "    resp_data = api_request(url)[\"league\"][\"teams\"]\n",
    "    return resp_data"
   ]
  },
  {
   "cell_type": "code",
   "execution_count": null,
   "metadata": {},
   "outputs": [],
   "source": [
    "def get_stats_for_players_by_date(player_keys, date):\n",
    "    \"\"\"\n",
    "    Parameters:\n",
    "    player_keys (str[]): All player keys\n",
    "    date (str): Date to get roster for in YYYY-MM-DD format\n",
    "    \"\"\"\n",
    "    league_key = f\"{game_id}.l.{league_id}\"\n",
    "    data = []\n",
    "    for i in range(math.ceil(len(player_keys)/25)):\n",
    "        player_keys_str = \",\".join(player_keys[i*25:min((i+1)*25, len(player_keys))])\n",
    "        url = f\"{BASE_URL}/league/{league_key}/players;player_keys={player_keys_str}/stats;type=date;date={date};start={i*25}\" # Need to access league endpoint to get player_points attribute, otherwise calculate TODO: Is it faster to calculate it ourselves or request more information from the API?\n",
    "        resp_data = api_request(url)\n",
    "        data += resp_data[\"league\"][\"players\"]\n",
    "    return data"
   ]
  },
  {
   "cell_type": "code",
   "execution_count": null,
   "metadata": {},
   "outputs": [],
   "source": [
    "def flatten_list_of_lists(list_of_lists):\n",
    "    return [item for sublist in list_of_lists for item in sublist]"
   ]
  },
  {
   "cell_type": "code",
   "execution_count": null,
   "metadata": {},
   "outputs": [],
   "source": [
    "\"\"\"\n",
    "Things to track\n",
    "- Points missed out on\n",
    "- Number of times roster wasn't optimized\n",
    "\"\"\"\n",
    "def get_bench_oppurtunity_cost(bench_players, team_roster, players_points):\n",
    "    def get_replacement_players(bench_player):\n",
    "        replacement_positions = bench_player[\"display_position\"].split(\",\")\n",
    "        replacement_players = []\n",
    "        for position in replacement_positions:\n",
    "            players_matching_position = [player for player in team_roster if player[\"selected_position\"][\"position\"] == position and player[\"player_key\"] not in selected_replacements]\n",
    "            new_positions = flatten_list_of_lists([player[\"display_position\"].split(\",\") for player in players_matching_position])\n",
    "            new_positions_unique = [position for position in new_positions if position not in replacement_positions]\n",
    "            replacement_positions += new_positions_unique\n",
    "            replacement_players += players_matching_position\n",
    "        return replacement_players\n",
    "\n",
    "    selected_replacements = []\n",
    "    points_missed_out = 0\n",
    "    num_wrong_bench = 0\n",
    "    for bench_player in sorted(bench_players, key=lambda player: players_points[player[\"player_key\"]], reverse=True):\n",
    "        replacement_players = get_replacement_players(bench_player)\n",
    "        if len(replacement_players) == 0:\n",
    "            num_wrong_bench += 1\n",
    "            points_missed_out += players_points[bench_player[\"player_key\"]] - players_points.get(worst_replacement_player[\"player_key\"], 0)\n",
    "            selected_replacements.append(worst_replacement_player[\"player_key\"])\n",
    "        else:\n",
    "            worst_replacement_player = sorted(replacement_players, key=lambda player: players_points.get(player[\"player_key\"], 0))[0]\n",
    "            if players_points.get(worst_replacement_player[\"player_key\"], 0) < players_points[bench_player[\"player_key\"]]:\n",
    "                num_wrong_bench += 1\n",
    "                points_missed_out += players_points[bench_player[\"player_key\"]] - players_points.get(worst_replacement_player[\"player_key\"], 0)\n",
    "                selected_replacements.append(worst_replacement_player[\"player_key\"])\n",
    "    num_benched = len(bench_players)\n",
    "    return points_missed_out, num_wrong_bench, num_benched"
   ]
  },
  {
   "cell_type": "code",
   "execution_count": null,
   "metadata": {},
   "outputs": [],
   "source": [
    "\"\"\"\n",
    "Alternative reality\n",
    "\"\"\"\n",
    "# TODO: Check if playoff even exists, otherwise use endweek\n",
    "num_reg_weeks = playoff_start_week - league_start_week\n",
    "weeks = \",\".join([str(week) for week in range(league_start_week, playoff_start_week)])\n",
    "url = f\"https://fantasysports.yahooapis.com/fantasy/v2/league/{league_key}/scoreboard;week={weeks}/matchups\"\n",
    "matchups = get_response(url)[\"league\"][\"scoreboard\"][\"matchups\"]\n",
    "team_schedules = defaultdict(lambda: {\"points\": [], \"opponent\": []})\n",
    "for matchup in matchups:\n",
    "    teams = matchup[\"teams\"]\n",
    "    team_schedules[teams[0][\"team_key\"]][\"points\"].append(float(teams[0][\"team_points\"][\"total\"]))\n",
    "    team_schedules[teams[1][\"team_key\"]][\"points\"].append(float(teams[1][\"team_points\"][\"total\"]))\n",
    "    team_schedules[teams[0][\"team_key\"]][\"opponent\"].append({\"key\": teams[1][\"team_key\"], \"points\": float(teams[1][\"team_points\"][\"total\"])})\n",
    "    team_schedules[teams[1][\"team_key\"]][\"opponent\"].append({\"key\": teams[0][\"team_key\"], \"points\": float(teams[0][\"team_points\"][\"total\"])})\n",
    "num_teams = 8 # TODO: change len(teams)\n",
    "team_schedule_matrix = [[0 for _ in range(num_teams)] for _ in range(num_teams)]\n",
    "# print(prettify_data(list(team_schedules.values())))\n",
    "for i, [team_a_key, team_a]  in enumerate(team_schedules.items()):\n",
    "    for j, team_b in enumerate(team_schedules.values()):\n",
    "        results = [0.5 if team_a_pts == team_opp[\"points\"] else team_a_pts > team_opp[\"points\"] for team_a_pts, team_opp in zip(team_a[\"points\"], team_b[\"opponent\"]) if team_opp[\"key\"] != team_a_key]\n",
    "        percent = round(sum(results)/len(results), 3)\n",
    "        team_schedule_matrix[i][j] = percent\n",
    "team_schedule_matrix"
   ]
  },
  {
   "cell_type": "code",
   "execution_count": null,
   "metadata": {},
   "outputs": [],
   "source": [
    "\"\"\"\n",
    "Selected Position Values: {'G', 'NA', 'IR+', 'D', 'BN', 'RW', 'LW', 'C'}\n",
    "- Number of games played by team\n",
    "- Points left on bench\n",
    "\n",
    "Theodore's Poo Poo Hospital 1066\n",
    "Eric’s a Bitch Team         1045\n",
    "Cyrus's Cursed Team         1043\n",
    "eric's Awe-Inspiring Team   1021\n",
    "Tim's Terrific Team         1004\n",
    "adam2                       950\n",
    "Kevin's Incredible Team     907\n",
    "Miami Steamrollers          775\n",
    "\"\"\"\n",
    "league = get_league()\n",
    "league_start_date = datetime.strptime(league[\"start_date\"], \"%Y-%m-%d\")\n",
    "league_end_date = datetime.strptime(league[\"end_date\"], \"%Y-%m-%d\")\n",
    "games_by_team = defaultdict(int)\n",
    "points_left_on_bench_by_team = defaultdict(list)\n",
    "benches_by_team = defaultdict(lambda: {\"points_missed_out\": 0, \"num_wrong_bench\": 0, \"num_benched\": 0})\n",
    "for i in range((league_end_date - league_start_date).days+1):\n",
    "    print(i)\n",
    "    current_date_str = (league_start_date + timedelta(days=i)).strftime(\"%Y-%m-%d\")\n",
    "    teams = get_all_team_rosters_by_date(current_date_str)\n",
    "    player_keys = [player[\"player_key\"] for team in teams for player in team[\"roster\"][\"players\"]] # This needs to be done first so request can be batched\n",
    "    players = get_stats_for_players_by_date(player_keys, current_date_str)\n",
    "    players_points = {player[\"player_key\"]: float(player[\"player_points\"][\"total\"]) for player in players if player[\"player_stats\"][\"stats\"][0][\"value\"] != \"-\"} # Filter out players that didn't play that day\n",
    "    for team in teams:\n",
    "        bench_players = []\n",
    "        team_roster = team[\"roster\"][\"players\"]\n",
    "        for player in team_roster:\n",
    "            if player[\"selected_position\"][\"position\"] not in [\"BN\", \"IR+\", \"NA\"] and player[\"player_key\"] in players_points:\n",
    "                games_by_team[team[\"team_key\"]] += 1\n",
    "            elif player[\"selected_position\"][\"position\"] in [\"BN\", \"IR+\", \"NA\"] and player[\"player_key\"] in players_points:\n",
    "                bench_players.append(player)\n",
    "        points_missed_out, num_wrong_bench, num_benched = get_bench_oppurtunity_cost(bench_players, team_roster, players_points)\n",
    "        benches_by_team[team[\"team_key\"]][\"points_missed_out\"] += points_missed_out\n",
    "        benches_by_team[team[\"team_key\"]][\"num_wrong_bench\"] += num_wrong_bench\n",
    "        benches_by_team[team[\"team_key\"]][\"num_benched\"] += num_benched\n",
    "games_by_team_sorted = sorted(games_by_team.items(), key=lambda item: item[1], reverse=True)\n",
    "games_by_team_sorted = [[get_team_name(team_key), games] for team_key, games in games_by_team_sorted]"
   ]
  },
  {
   "cell_type": "code",
   "execution_count": null,
   "metadata": {},
   "outputs": [],
   "source": [
    "for team_key, bench_stats in benches_by_team.items():\n",
    "    print(f'{get_team_name(team_key)} {round(bench_stats[\"points_missed_out\"]/bench_stats[\"num_benched\"], 2)} {round(bench_stats[\"num_wrong_bench\"]/bench_stats[\"num_benched\"], 2)}')"
   ]
  },
  {
   "cell_type": "code",
   "execution_count": null,
   "metadata": {},
   "outputs": [],
   "source": [
    "def get_league_game_weeks():\n",
    "    game_weeks = get_response(\n",
    "        f\"https://fantasysports.yahooapis.com/fantasy/v2/game/{game_id}/game_weeks\", \n",
    "    )[\"game\"][\"game_weeks\"]\n",
    "    game_weeks_league = game_weeks\n",
    "    game_weeks_league[league_start_week-1][\"start\"] = league_start_date_str # Should it be -1 or -league_start_week?\n",
    "    game_weeks_league[league_end_week-1][\"end\"] = league_end_date_str\n",
    "    return game_weeks_league"
   ]
  },
  {
   "cell_type": "code",
   "execution_count": null,
   "metadata": {},
   "outputs": [],
   "source": [
    "def get_dates_by_week(week):\n",
    "    league_game_weeks = get_league_game_weeks()\n",
    "    start_date_str = league_game_weeks[week-1][\"start\"]\n",
    "    end_date_str = league_game_weeks[week-1][\"end\"]\n",
    "    start_date = datetime.strptime(start_date_str, \"%Y-%m-%d\")\n",
    "    end_date = datetime.strptime(end_date_str, \"%Y-%m-%d\")\n",
    "    return [(start_date + timedelta(days=i)).strftime(\"%Y-%m-%d\") for i in range((end_date - start_date).days + 1)]"
   ]
  },
  {
   "cell_type": "code",
   "execution_count": null,
   "metadata": {},
   "outputs": [],
   "source": [
    "def get_players(player_keys):\n",
    "    return [\n",
    "        player \n",
    "        for i in range(int(len(player_keys) / 25) + 1)\n",
    "        for player in get_response(\n",
    "            f\"https://fantasysports.yahooapis.com/fantasy/v2/league/{league['league_key']}/players;player_keys={','.join(player_keys[i*25:min((i+1)*25, len(player_keys))])};start={i*25}/stats\"\n",
    "        )[\"league\"][\"players\"]\n",
    "    ]"
   ]
  },
  {
   "cell_type": "code",
   "execution_count": null,
   "metadata": {},
   "outputs": [],
   "source": [
    "def get_top_n_players_by_position(n, position):\n",
    "    if position == \"F\":\n",
    "        position = \"C,LW,RW\"\n",
    "    return [\n",
    "        player \n",
    "        for i in range(int(n/25)+1) \n",
    "        for player in get_response(\n",
    "            f\"https://fantasysports.yahooapis.com/fantasy/v2/league/{league['league_key']}/players;sort=PTS;sort_type=season;position={position};count={n};start={i*25}/stats\",\n",
    "        )[\"league\"][\"players\"]\n",
    "    ]"
   ]
  },
  {
   "cell_type": "code",
   "execution_count": null,
   "metadata": {},
   "outputs": [],
   "source": [
    "def get_player_game_log_nhl(player_id):\n",
    "    season = f\"{league_season}{league_season+1}\"\n",
    "    return requests.get(f\"https://api-web.nhle.com/v1/player/{player_id}/game-log/{season}/2\").json()[\"gameLog\"] # 2 inndicates regular season games"
   ]
  },
  {
   "cell_type": "code",
   "execution_count": null,
   "metadata": {},
   "outputs": [],
   "source": [
    "def get_game_info_nhl(game_id):\n",
    "    return requests.get(f\"https://api-web.nhle.com/v1/gamecenter/{game_id}/landing\").json()\n"
   ]
  },
  {
   "cell_type": "code",
   "execution_count": null,
   "metadata": {},
   "outputs": [],
   "source": [
    "def get_player_team_by_date(player_name: str, player_position: str, date: str):\n",
    "    '''\n",
    "    Parameters:\n",
    "    player_name (str): Full name of player\n",
    "    date (str): Date to search for in YYYY-MM-DD format\n",
    "\n",
    "    Returns:\n",
    "    str: 3 letter abbreviation for NHL team name\n",
    "    '''\n",
    "    player_name_url = player_name.replace(\" \", \"%20\")\n",
    "    players = requests.get(f\"https://search.d3.nhle.com/api/v1/search/player?culture=en-us&limit=20&q={player_name_url}%2A\").json()\n",
    "    players = [player for player in players if player[\"name\"] == player_name] # Matching names\n",
    "    # If there are multiple players matching name, filter by other attributes\n",
    "    if len(players) > 1:\n",
    "        players = [player for player in players if player[\"lastSeasonId\"] and int(player[\"lastSeasonId\"][:4]) >= league_info.season]\n",
    "        if len(players) > 1:\n",
    "            players = [player for player in players if player[\"positionCode\"] in player_position.split(\",\")]\n",
    "    if len(players) != 1:\n",
    "        print(len(players), player_name, players)\n",
    "    player = players[0]\n",
    "    player_game_log = get_player_game_log_nhl(player[\"playerId\"])\n",
    "    game_log_for_date = next([game_log for game_log in player_game_log if game_log[\"gameDate\"] == date])\n",
    "    print(game_log_for_date)\n",
    "    # return team_name"
   ]
  },
  {
   "cell_type": "code",
   "execution_count": null,
   "metadata": {},
   "outputs": [],
   "source": [
    "'''\n",
    "Most/least points after dropping a player on average\n",
    "'''\n",
    "transactions = query.get_league_transactions()\n",
    "transactions_drop = [{\"player\": player, \"timestamp\": transaction.timestamp} for transaction in transactions for player in transaction.players if player.transaction_data.type == \"drop\"]\n",
    "team_name = {}\n",
    "points_by_team = defaultdict(list)\n",
    "for transaction in transactions_drop:\n",
    "    print(transaction)\n",
    "    transaction_date = datetime.fromtimestamp(transaction[\"timestamp\"], tz=ZoneInfo(\"America/New_York\"))\n",
    "    transaction_player = transaction[\"player\"]\n",
    "    team_key = transaction_player.transaction_data.source_team_key\n",
    "    player_name = transaction_player.name.full\n",
    "    player_name_url = player_name.replace(\" \", \"%20\")\n",
    "    players = requests.get(f\"https://search.d3.nhle.com/api/v1/search/player?culture=en-us&limit=20&q={player_name_url}%2A\").json()\n",
    "    players = [player for player in players if player[\"name\"] == player_name] # Matching names\n",
    "    # If there are multiple players matching name, filter by other attributes\n",
    "    if len(players) > 1:\n",
    "        players = [player for player in players if player[\"lastSeasonId\"] and int(player[\"lastSeasonId\"][:4]) >= league_info.season]\n",
    "        if len(players) > 1:\n",
    "            players = [player for player in players if player[\"positionCode\"] in transaction_player.display_position.split(\",\")]\n",
    "    if len(players) != 1:\n",
    "        print(len(players), player_name, players)\n",
    "    player = players[0]\n",
    "    player_game_log = get_player_game_log_nhl(player[\"playerId\"])\n",
    "    if len(player_game_log) == 0:\n",
    "        print(f\"{player_name} didn't play any games this season\")\n",
    "        continue\n",
    "    # TODO: Consider case when someone is dropped due to injury\n",
    "    # last_game = [game_log for game_log in player_game_log if datetime.strptime(game_log[\"gameDate\"], \"%Y-%m-%d\").replace(tzinfo=timezone(timedelta(hours=-4))).date() <= transaction_date.date()]\n",
    "    # if len(last_game) == 0: # No games played before drop\n",
    "    #     first_game = player_game_log[-1]\n",
    "    #     print(f\"{player_name} didn't play any games yet\")\n",
    "    #     continue\n",
    "    # Next game could either be the same day as pickup or game after pickup\n",
    "    next_game = [game_log for game_log in player_game_log if datetime.strptime(game_log[\"gameDate\"], \"%Y-%m-%d\").replace(tzinfo=timezone(timedelta(hours=-4))).date() >= transaction_date.date()]\n",
    "    if len(next_game) == 0: # Didn't play the rest of the season\n",
    "        print(f\"{player_name} didn't play any more games\")\n",
    "        continue\n",
    "    next_game_date = next_game[-1][\"gameDate\"]\n",
    "    player_stats = query.get_player_stats_by_date(transaction_player.player_key, next_game_date)\n",
    "    points_by_team[team_key].append(player_stats.player_points.total)\n",
    "    team_name[team_key] = transaction_player.transaction_data.source_team_name\n",
    "team_average = []\n",
    "for team_key, team_points in points_by_team.items():\n",
    "    team_average.append((team_name[team_key], round(sum(team_points)/len(team_points), 1)))\n",
    "team_average = sorted(team_average, key=lambda x: x[1])\n",
    "print(team_average)"
   ]
  },
  {
   "cell_type": "code",
   "execution_count": null,
   "metadata": {},
   "outputs": [],
   "source": [
    "'''\n",
    "Biggest comeback\n",
    "52.8s\n",
    "'''\n",
    "deficits = []\n",
    "for week in range(league_start_week, league_end_week + 1):\n",
    "    matchups = get_matchups_by_week(week)\n",
    "    for matchup in matchups:\n",
    "        # Comeback win can't happen without a winner\n",
    "        if matchup.is_tied:\n",
    "            continue\n",
    "        winner_id = int(matchup.winner_team_key.split(\".\")[-1])\n",
    "        team_ids = [matchup.teams[0].team_id, matchup.teams[1].team_id]\n",
    "        team_w_idx, team_l_idx = (0, 1) if winner_id == team_ids[0] else (1, 0)\n",
    "        deficit = 0\n",
    "        start_date = datetime.strptime(matchup.week_start, \"%Y-%m-%d\")\n",
    "        end_date = datetime.strptime(matchup.week_end, \"%Y-%m-%d\")\n",
    "        # Don't include the last day since the matchup is over\n",
    "        for i in range((end_date - start_date).days):\n",
    "            current_date_str = (start_date + timedelta(days=i)).strftime(\"%Y-%m-%d\")\n",
    "            team_w_points = matchup.teams[team_w_idx].team_stats_collection[i][\"team_points\"].total\n",
    "            team_l_points = matchup.teams[team_l_idx].team_stats_collection[i][\"team_points\"].total\n",
    "            deficit = round(deficit + team_l_points - team_w_points, 1)\n",
    "            if deficit > 0:\n",
    "                deficits.append((deficit, matchup))\n",
    "biggest_deficits = sorted(deficits, key=lambda x: x[0])\n",
    "biggest_deficits = list({f\"{matchup.week}.{matchup.winner_team_key}\": (deficit, matchup) for (deficit, matchup) in biggest_deficits}.values())\n",
    "biggest_deficits = sorted(biggest_deficits, reverse=True, key=lambda x: x[0])\n",
    "print(\"Biggest comebacks\")\n",
    "for diff, matchup in biggest_deficits[:5]:\n",
    "    print(f\"{matchup.week} {matchup.teams[0].name} {matchup.teams[1].name} - {diff}\")"
   ]
  }
 ],
 "metadata": {
  "kernelspec": {
   "display_name": "fantasy_env",
   "language": "python",
   "name": "python3"
  },
  "language_info": {
   "codemirror_mode": {
    "name": "ipython",
    "version": 3
   },
   "file_extension": ".py",
   "mimetype": "text/x-python",
   "name": "python",
   "nbconvert_exporter": "python",
   "pygments_lexer": "ipython3",
   "version": "3.11.11"
  }
 },
 "nbformat": 4,
 "nbformat_minor": 2
}
