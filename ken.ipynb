{
 "cells": [
  {
   "cell_type": "code",
   "execution_count": 1,
   "metadata": {},
   "outputs": [],
   "source": [
    "from yfpy.query import YahooFantasySportsQuery\n",
    "from yfpy.models import YahooFantasyObject\n",
    "from datetime import datetime, timedelta\n",
    "from dotenv import load_dotenv\n",
    "import os\n",
    "from nhlpy import NHLClient\n",
    "from yfpy.utils import reformat_json_list, unpack_data, prettify_data, jsonify_data\n",
    "import requests\n",
    "import json"
   ]
  },
  {
   "cell_type": "code",
   "execution_count": 2,
   "metadata": {},
   "outputs": [],
   "source": [
    "load_dotenv()\n",
    "CLIENT_ID = os.getenv(\"CLIENT_ID\")\n",
    "CLIENT_SECRET = os.getenv(\"CLIENT_SECRET\")"
   ]
  },
  {
   "cell_type": "code",
   "execution_count": 3,
   "metadata": {},
   "outputs": [],
   "source": [
    "nhl_client = NHLClient()"
   ]
  },
  {
   "cell_type": "code",
   "execution_count": 50,
   "metadata": {},
   "outputs": [],
   "source": [
    "# Use last season stats so there aren't any spoilers\n",
    "current = False\n",
    "league_id = \"67269\" if current else \"97108\"\n",
    "game_id = 453 if current else 427\n",
    "query = YahooFantasySportsQuery(\n",
    "    league_id=league_id,\n",
    "    game_code=\"nhl\",\n",
    "    game_id=game_id,\n",
    "    yahoo_consumer_key=CLIENT_ID,\n",
    "    yahoo_consumer_secret=CLIENT_SECRET,\n",
    ")"
   ]
  },
  {
   "cell_type": "code",
   "execution_count": 5,
   "metadata": {},
   "outputs": [],
   "source": [
    "league_info = query.get_league_info()\n",
    "league_start_week = league_info.start_week\n",
    "league_end_week = league_info.end_week\n",
    "league_start_date_str = league_info.start_date\n",
    "league_end_date_str = league_info.end_date"
   ]
  },
  {
   "cell_type": "code",
   "execution_count": 7,
   "metadata": {},
   "outputs": [],
   "source": [
    "def get_league_game_weeks():\n",
    "    game_weeks = query.query(\n",
    "        f\"https://fantasysports.yahooapis.com/fantasy/v2/game/{game_id}/game_weeks\", \n",
    "        [\"game\", \"game_weeks\"]\n",
    "    )\n",
    "    game_weeks_league = game_weeks\n",
    "    game_weeks_league[league_start_week-1].start = league_start_date_str\n",
    "    game_weeks_league[league_end_week-1].end = league_end_date_str\n",
    "    return game_weeks_league"
   ]
  },
  {
   "cell_type": "code",
   "execution_count": 8,
   "metadata": {},
   "outputs": [],
   "source": [
    "league_game_weeks = get_league_game_weeks()"
   ]
  },
  {
   "cell_type": "code",
   "execution_count": 9,
   "metadata": {},
   "outputs": [],
   "source": [
    "def get_dates_by_week(week):\n",
    "    start_date_str = league_game_weeks[week-1].start\n",
    "    end_date_str = league_game_weeks[week-1].end\n",
    "    start_date = datetime.strptime(start_date_str, \"%Y-%m-%d\")\n",
    "    end_date = datetime.strptime(end_date_str, \"%Y-%m-%d\")\n",
    "    return [(start_date + timedelta(days=i)).strftime(\"%Y-%m-%d\") for i in range((end_date - start_date).days + 1)]"
   ]
  },
  {
   "cell_type": "code",
   "execution_count": 179,
   "metadata": {},
   "outputs": [],
   "source": [
    "def get_players(player_keys):\n",
    "    return [\n",
    "        player \n",
    "        for i in range(int(len(player_keys) / 25) + 1)\n",
    "        for player in query.query(\n",
    "            f\"https://fantasysports.yahooapis.com/fantasy/v2/league/{league_info.league_key}/players;player_keys={','.join(player_keys[i*25:min((i+1)*25, len(player_keys))])};start={i*25}/stats\",\n",
    "            [\"league\", \"players\"]\n",
    "        )\n",
    "    ]"
   ]
  },
  {
   "cell_type": "code",
   "execution_count": 54,
   "metadata": {},
   "outputs": [],
   "source": [
    "def get_top_n_players_by_position(n, position):\n",
    "    if position == \"F\":\n",
    "        position = \"C,LW,RW\"\n",
    "    return [playere for i in range(int(n/25)+1) for player in query.query(\n",
    "        f\"https://fantasysports.yahooapis.com/fantasy/v2/league/{league_info.league_key}/players;sort=PTS;sort_type=season;position={position};count={n};start={i*25}/stats\",\n",
    "        [\"league\", \"players\"]\n",
    "    )]"
   ]
  },
  {
   "cell_type": "code",
   "execution_count": 55,
   "metadata": {},
   "outputs": [],
   "source": [
    "'''\n",
    "Get's daily scores for each matchup of the week.\n",
    "'''\n",
    "def get_matchups_by_week(week):\n",
    "    dates = get_dates_by_week(week)\n",
    "    resp = query.get_response(\n",
    "        f\"https://fantasysports.yahooapis.com/fantasy/v2/league/{league_info.league_key}/scoreboard;week={week}/matchups/teams/stats_collection;types=date;date={','.join(dates)}\", \n",
    "    )\n",
    "    teams_dict = resp.json().get('fantasy_content', {}).get('league', [{}])[1].get('scoreboard', {}).get(\"0\").get(\"matchups\", {})\n",
    "    teams_dict = unpack_data(teams_dict, YahooFantasyObject)\n",
    "    teams_dict = [el[\"matchup\"] for el in teams_dict] # Convert object to list\n",
    "    return teams_dict"
   ]
  },
  {
   "cell_type": "code",
   "execution_count": 91,
   "metadata": {},
   "outputs": [
    {
     "name": "stdout",
     "output_type": "stream",
     "text": [
      "Biggest comebacks\n",
      "8 b'Eric\\xe2\\x80\\x99s a Bitch Team' b\"Theodore's Poo Poo Hospital\" - 58.3\n",
      "1 b'Miami Steamrollers' b\"eric's Awe-Inspiring Team\" - 36.7\n",
      "7 b'Miami Steamrollers' b\"Cyrus's Cursed Team\" - 35.2\n",
      "8 b\"Tim's Terrific Team\" b\"Cyrus's Cursed Team\" - 31.5\n",
      "11 b\"Theodore's Poo Poo Hospital\" b\"Kevin's Incredible Team\" - 23.6\n"
     ]
    }
   ],
   "source": [
    "'''\n",
    "Biggest comeback\n",
    "52.8s\n",
    "'''\n",
    "deficits = []\n",
    "for week in range(league_start_week, league_end_week + 1):\n",
    "    matchups = get_matchups_by_week(week)\n",
    "    for matchup in matchups:\n",
    "        # Comeback win can't happen without a winner\n",
    "        if matchup.is_tied:\n",
    "            continue\n",
    "        winner_id = int(matchup.winner_team_key.split(\".\")[-1])\n",
    "        team_ids = [matchup.teams[0].team_id, matchup.teams[1].team_id]\n",
    "        team_w_idx, team_l_idx = (0, 1) if winner_id == team_ids[0] else (1, 0)\n",
    "        deficit = 0\n",
    "        start_date = datetime.strptime(matchup.week_start, \"%Y-%m-%d\")\n",
    "        end_date = datetime.strptime(matchup.week_end, \"%Y-%m-%d\")\n",
    "        # Don't include the last day since the matchup is over\n",
    "        for i in range((end_date - start_date).days):\n",
    "            current_date_str = (start_date + timedelta(days=i)).strftime(\"%Y-%m-%d\")\n",
    "            team_w_points = matchup.teams[team_w_idx].team_stats_collection[i][\"team_points\"].total\n",
    "            team_l_points = matchup.teams[team_l_idx].team_stats_collection[i][\"team_points\"].total\n",
    "            deficit = round(deficit + team_l_points - team_w_points, 1)\n",
    "            if deficit > 0:\n",
    "                deficits.append((deficit, matchup))\n",
    "biggest_deficits = sorted(deficits, key=lambda x: x[0])\n",
    "biggest_deficits = list({f\"{matchup.week}.{matchup.winner_team_key}\": (deficit, matchup) for (deficit, matchup) in biggest_deficits}.values())\n",
    "biggest_deficits = sorted(biggest_deficits, reverse=True, key=lambda x: x[0])\n",
    "print(\"Biggest comebacks\")\n",
    "for diff, matchup in biggest_deficits[:5]:\n",
    "    print(f\"{matchup.week} {matchup.teams[0].name} {matchup.teams[1].name} - {diff}\")"
   ]
  },
  {
   "cell_type": "code",
   "execution_count": null,
   "metadata": {},
   "outputs": [],
   "source": [
    "def get_next_game():\n",
    "    "
   ]
  },
  {
   "cell_type": "code",
   "execution_count": 146,
   "metadata": {},
   "outputs": [],
   "source": [
    "'''\n",
    "Most/least average points after drop (team)\n",
    "- Get all transactions\n",
    "- Filter by drop\n",
    "- Get NHL schedule\n",
    "'''\n",
    "transactions = query.get_league_transactions()"
   ]
  },
  {
   "cell_type": "code",
   "execution_count": 157,
   "metadata": {},
   "outputs": [],
   "source": [
    "transactions_drop = [{\"player_dropped\": player, \"timestamp\": transaction.timestamp} for transaction in transactions for player in transaction.players if player.transaction_data.type == \"drop\"] # if player.transaction_data.type\n"
   ]
  },
  {
   "cell_type": "code",
   "execution_count": null,
   "metadata": {},
   "outputs": [],
   "source": [
    "transactions_drop"
   ]
  },
  {
   "cell_type": "code",
   "execution_count": null,
   "metadata": {},
   "outputs": [],
   "source": [
    "nhl_client.schedule.get_season_schedule(team_abbr=\"BUF\", season=\"20232024\")[\"games\"]"
   ]
  },
  {
   "cell_type": "code",
   "execution_count": null,
   "metadata": {},
   "outputs": [],
   "source": [
    "transactions"
   ]
  },
  {
   "cell_type": "code",
   "execution_count": null,
   "metadata": {},
   "outputs": [],
   "source": [
    "[draft_result.player_key for draft_result in draft_results]"
   ]
  },
  {
   "cell_type": "code",
   "execution_count": null,
   "metadata": {},
   "outputs": [],
   "source": [
    "'''\n",
    "Biggest draft busts/steals\n",
    "'''\n",
    "# Get draft results\n",
    "draft_results = query.get_league_draft_results()\n",
    "draft_players = get_players([draft_result.player_key for draft_result in draft_results])\n",
    "draft_players\n",
    "draft_players_by_pos = {\"F\": [], \"D\": [], \"G\": []}\n",
    "positions_map = {\"C\": \"F\", \"LW\": \"F\", \"RW\": \"F\", \"D\": \"D\", \"G\": \"G\"}\n",
    "for draft_player in draft_players:\n",
    "    draft_players_by_pos[positions_map[draft_player.primary_position]].append(draft_player)\n",
    "# Get the top players by position\n",
    "top_players_by_pos = {\n",
    "    \"F\": get_top_n_players_by_position(len(draft_players_by_pos[\"F\"]), \"F\"), \n",
    "    \"D\": get_top_n_players_by_position(len(draft_players_by_pos[\"D\"]), \"D\"), \n",
    "    \"G\": get_top_n_players_by_position(len(draft_players_by_pos[\"G\"]), \"G\")\n",
    "}\n",
    "# Get differences between draft player and top player\n",
    "diffs = []\n",
    "for key in draft_players_by_pos:\n",
    "    for draft_player, top_player in zip(draft_players_by_pos[key], top_players_by_pos[key]):\n",
    "        diff = round(draft_player.player_points.total - top_player.player_points.total, 1)\n",
    "        diffs.append((diff, draft_player))\n",
    "biggest_diffs = sorted(diffs, reverse=True, key=lambda x: x[0])\n",
    "smallest_diffs = sorted(diffs, key=lambda x: x[0])\n",
    "print(\"Biggest draft steals\")\n",
    "for diff, player in biggest_diffs[:5]:\n",
    "    print(f\"{player.name.first} {player.name.last} - {diff}\")\n",
    "print(\"Biggest draft busts\")\n",
    "for diff, player in smallest_diffs[:5]:\n",
    "    print(f\"{player.name.first} {player.name.last} - {diff}\")"
   ]
  }
 ],
 "metadata": {
  "kernelspec": {
   "display_name": "fantasy_env",
   "language": "python",
   "name": "python3"
  },
  "language_info": {
   "codemirror_mode": {
    "name": "ipython",
    "version": 3
   },
   "file_extension": ".py",
   "mimetype": "text/x-python",
   "name": "python",
   "nbconvert_exporter": "python",
   "pygments_lexer": "ipython3",
   "version": "3.11.11"
  }
 },
 "nbformat": 4,
 "nbformat_minor": 2
}
