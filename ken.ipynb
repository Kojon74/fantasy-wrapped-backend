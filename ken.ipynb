{
 "cells": [
  {
   "cell_type": "code",
   "execution_count": 1,
   "metadata": {},
   "outputs": [],
   "source": [
    "from datetime import datetime, timedelta, timezone\n",
    "import requests\n",
    "import json\n",
    "from zoneinfo import ZoneInfo\n",
    "from collections import defaultdict\n",
    "import math\n",
    "from query import Query\n",
    "from pprint import pprint"
   ]
  },
  {
   "cell_type": "code",
   "execution_count": 2,
   "metadata": {},
   "outputs": [],
   "source": [
    "BASE_URL = \"https://fantasysports.yahooapis.com/fantasy/v2\""
   ]
  },
  {
   "cell_type": "code",
   "execution_count": 4,
   "metadata": {},
   "outputs": [
    {
     "name": "stderr",
     "output_type": "stream",
     "text": [
      "[2025-03-14 14:37:08,760 DEBUG] [yahoo_oauth.oauth.handler] AUTHORIZATION URL : https://api.login.yahoo.com/oauth2/request_auth?redirect_uri=oob&response_type=code&client_id=dj0yJmk9bU10Q0gxVE12TzdDJmQ9WVdrOVdIQTJWRGRDYURFbWNHbzlNQT09JnM9Y29uc3VtZXJzZWNyZXQmc3Y9MCZ4PWU1\n",
      "[2025-03-14 14:37:14,405 DEBUG] [yahoo_oauth.oauth.refresh_access_token] REFRESHING TOKEN\n",
      "[2025-03-14 14:37:14,505 DEBUG] [yahoo_oauth.oauth.token_is_valid] ELAPSED TIME : 0.09913969039916992\n",
      "[2025-03-14 14:37:14,506 DEBUG] [yahoo_oauth.oauth.token_is_valid] TOKEN IS STILL VALID\n",
      "[2025-03-14 14:37:15,331 DEBUG] [yahoo_oauth.oauth.token_is_valid] ELAPSED TIME : 0.9253218173980713\n",
      "[2025-03-14 14:37:15,332 DEBUG] [yahoo_oauth.oauth.token_is_valid] TOKEN IS STILL VALID\n",
      "[2025-03-14 14:37:18,189 DEBUG] [yahoo_oauth.oauth.token_is_valid] ELAPSED TIME : 3.7828469276428223\n",
      "[2025-03-14 14:37:18,190 DEBUG] [yahoo_oauth.oauth.token_is_valid] TOKEN IS STILL VALID\n"
     ]
    }
   ],
   "source": [
    "# Use last season stats so there aren't any spoilers\n",
    "current = False\n",
    "league_id = \"67269\" if current else \"97108\"\n",
    "game_id = 453 if current else 427\n",
    "league_key = f\"{game_id}.l.{league_id}\"\n",
    "query = await Query.create(league_key)"
   ]
  },
  {
   "cell_type": "code",
   "execution_count": 5,
   "metadata": {},
   "outputs": [
    {
     "ename": "AttributeError",
     "evalue": "'Query' object has no attribute 'get_worst_drops'",
     "output_type": "error",
     "traceback": [
      "\u001b[0;31m---------------------------------------------------------------------------\u001b[0m",
      "\u001b[0;31mAttributeError\u001b[0m                            Traceback (most recent call last)",
      "Cell \u001b[0;32mIn[5], line 1\u001b[0m\n\u001b[0;32m----> 1\u001b[0m \u001b[43mquery\u001b[49m\u001b[38;5;241;43m.\u001b[39;49m\u001b[43mget_worst_drops\u001b[49m()\n",
      "\u001b[0;31mAttributeError\u001b[0m: 'Query' object has no attribute 'get_worst_drops'"
     ]
    }
   ],
   "source": [
    "query.get_worst_drops()"
   ]
  },
  {
   "cell_type": "code",
   "execution_count": null,
   "metadata": {},
   "outputs": [],
   "source": [
    "def is_first_day_of_week(date_str):\n",
    "    return not all(date_str != game_week[\"start\"] for game_week in query.game_weeks)"
   ]
  },
  {
   "cell_type": "code",
   "execution_count": null,
   "metadata": {},
   "outputs": [],
   "source": [
    "def get_week_from_date(date):\n",
    "    return next((int(game_week[\"week\"]) for game_week in query.game_weeks if datetime.strptime(game_week[\"end\"], \"%Y-%m-%d\") + timedelta(1) > date), None) # Add 1 to date for edge case"
   ]
  },
  {
   "cell_type": "code",
   "execution_count": null,
   "metadata": {},
   "outputs": [],
   "source": [
    "def get_first_day_of_week(week):\n",
    "    return next(datetime.strptime(game_week[\"start\"], \"%Y-%m-%d\") for game_week in query.game_weeks if int(game_week[\"week\"]) == week)"
   ]
  },
  {
   "cell_type": "code",
   "execution_count": null,
   "metadata": {},
   "outputs": [],
   "source": [
    "# Get all transactions\n",
    "url = f'{BASE_URL}/league/{query.league_key}/transactions'\n",
    "transactions = list(reversed(query.get_response(url)[\"league\"][\"transactions\"]))\n",
    "players_daily = defaultdict(set)\n",
    "players_weekly = defaultdict(set)\n",
    "last_transaction_date = datetime.strptime(query.league_start_date_str, \"%Y-%m-%d\")\n",
    "last_transaction_week = query.league_start_week\n",
    "points_by_team = defaultdict(float)\n",
    "for transaction in transactions[:46]:\n",
    "    if not \"players\" in transaction:\n",
    "        continue\n",
    "    # pprint(transaction[\"players\"])\n",
    "    drop_player = next((player for player in transaction[\"players\"] if player[\"transaction_data\"][\"type\"] == \"drop\"), None)\n",
    "    if drop_player is not None:\n",
    "        transaction_date = datetime.fromtimestamp(int(transaction[\"timestamp\"]))\n",
    "        transaction_week = get_week_from_date(transaction_date)\n",
    "        if not transaction_date.strftime(\"%Y-%m-%d\") == last_transaction_date.strftime(\"%Y-%m-%d\") and (transaction_week == last_transaction_week or is_first_day_of_week(transaction_date.strftime(\"%y-%m-%d\"))):\n",
    "            dates = [(last_transaction_date + timedelta(days=i)).strftime(\"%Y-%m-%d\") for i in range((transaction_date.date() - last_transaction_date.date()).days)]\n",
    "            points_by_team_cur = get_players_points_by_date(players_daily, dates)\n",
    "            for key, value in points_by_team_cur.items():\n",
    "                points_by_team[key] += value\n",
    "            players_daily[drop_player[\"player_key\"]].add(drop_player[\"transaction_data\"][\"source_team_key\"])\n",
    "            last_transaction_date = transaction_date\n",
    "        elif not transaction_date.strftime(\"%Y-%m-%d\") == last_transaction_date.strftime(\"%Y-%m-%d\") and transaction_week != last_transaction_week and not is_first_day_of_week(transaction_date.strftime(\"%y-%m-%d\")):\n",
    "            # Get daily points up until last day of that week\n",
    "            week_first_date = get_first_day_of_week(transaction_week)\n",
    "            dates = [(last_transaction_date + timedelta(days=i)).strftime(\"%Y-%m-%d\") for i in range((week_first_date.date() - last_transaction_date.date()).days)]\n",
    "            points_by_team_cur = get_players_points_by_date(players_daily, dates)\n",
    "            for key, value in points_by_team_cur.items():\n",
    "                points_by_team[key] += value\n",
    "            weeks = [week for week in range(last_transaction_week, transaction_week)]\n",
    "            get_players_points_by_week(players_weekly, weeks)\n",
    "            for key, value in players_daily.items():\n",
    "                players_weekly[key].union(value)\n",
    "            players_daily = defaultdict(set)\n",
    "            last_transaction_date = transaction_date\n",
    "            last_transaction_week = transaction_week\n",
    "        players_daily[drop_player[\"player_key\"]].add(drop_player[\"transaction_data\"][\"source_team_key\"])"
   ]
  },
  {
   "cell_type": "code",
   "execution_count": null,
   "metadata": {},
   "outputs": [],
   "source": [
    "url = f'{BASE_URL}/league/{query.league_key}/players;player_keys=427.p.5391/stats;type=week;week=1'\n",
    "query.get_response(url)[\"league\"]"
   ]
  },
  {
   "cell_type": "code",
   "execution_count": null,
   "metadata": {},
   "outputs": [],
   "source": [
    "url = f'{BASE_URL}/league/{query.league_key}/transactions'\n",
    "transactions = list(reversed(query.get_response(url)[\"league\"][\"transactions\"]))\n",
    "transactions"
   ]
  },
  {
   "cell_type": "code",
   "execution_count": null,
   "metadata": {},
   "outputs": [],
   "source": [
    "points_by_team"
   ]
  },
  {
   "cell_type": "code",
   "execution_count": null,
   "metadata": {},
   "outputs": [],
   "source": [
    "query.get_team_name_from_key(\"427.l.97108.t.2\")"
   ]
  },
  {
   "cell_type": "code",
   "execution_count": null,
   "metadata": {},
   "outputs": [],
   "source": [
    "'''\n",
    "Get's daily scores for each matchup of the week.\n",
    "'''\n",
    "def get_matchups_by_week(week):\n",
    "    dates = get_dates_by_week(week)\n",
    "    resp = query.get_response(\n",
    "        f\"https://fantasysports.yahooapis.com/fantasy/v2/league/{league_info.league_key}/scoreboard;week={week}/matchups/teams/stats_collection;types=date;date={','.join(dates)}\", \n",
    "    )\n",
    "    return teams_dict"
   ]
  },
  {
   "cell_type": "code",
   "execution_count": null,
   "metadata": {},
   "outputs": [],
   "source": [
    "def get_matchups():\n",
    "    weeks = \",\".join([str(week) for week in range(query.league_start_week, query.league_end_week + 1)])\n",
    "    url = f\"https://fantasysports.yahooapis.com/fantasy/v2/league/{league_key}/scoreboard;week={weeks}\"\n",
    "    return query.get_response(url)[\"league\"][\"scoreboard\"][\"matchups\"]"
   ]
  },
  {
   "cell_type": "code",
   "execution_count": null,
   "metadata": {},
   "outputs": [],
   "source": [
    "matchups = get_matchups()"
   ]
  },
  {
   "cell_type": "code",
   "execution_count": null,
   "metadata": {},
   "outputs": [],
   "source": [
    "matchups"
   ]
  },
  {
   "cell_type": "code",
   "execution_count": null,
   "metadata": {},
   "outputs": [],
   "source": [
    "def get_opp_team_by_week(team_key, week):\n",
    "    # TODO make this a dict to improve performance so don't have to search through list every time\n",
    "    opp_key = [matchup[\"teams\"][0][\"team_key\"] if matchup[\"teams\"][0][\"team_key\"] != team_key else matchup[\"teams\"][1][\"team_key\"] for matchup in matchups if int(matchup[\"week\"]) == week and team_key in [team[\"team_key\"] for team in matchup[\"teams\"]]]\n",
    "    return opp_key[0] if len(opp_key) else None"
   ]
  },
  {
   "cell_type": "code",
   "execution_count": null,
   "metadata": {},
   "outputs": [],
   "source": [
    "HITS_STAT_ID = 31\n",
    "hits_by_team = defaultdict(int)\n",
    "top_player_by_team = {}\n",
    "opp_players_by_team = defaultdict(lambda: defaultdict(lambda: {\"name\": None, \"image_url\": None, \"points\": 0}))\n",
    "for team in query.teams:\n",
    "    team_points_by_nhl_team = defaultdict(float)\n",
    "    team_points_by_player = defaultdict(lambda: {\"name\": None, \"image_url\": None, \"points\": 0})\n",
    "    for week in range(query.league_start_week, query.league_end_week + 1):\n",
    "        opp_team = get_opp_team_by_week(team[\"team_key\"], week)\n",
    "        if not opp_team:\n",
    "            # Means this team had no matchup for the current week, skip\n",
    "            continue\n",
    "        week_end_date = query.get_dates_by_week(week)[-1]\n",
    "        url = f\"https://fantasysports.yahooapis.com/fantasy/v2/team/{team['team_key']}/roster;week={week}/players/stats;type=week;week={week}\"\n",
    "        roster_players = query.get_response(url)[\"team\"][\"roster\"][\"players\"]\n",
    "        for player in roster_players:\n",
    "            # hits_by_team[team[\"team_key\"]] += next(iter([int(stat[\"value\"]) for stat in player[\"player_stats\"][\"stats\"] if int(stat[\"stat_id\"]) == HITS_STAT_ID and stat[\"value\"] != \"-\"]), 0)\n",
    "            \n",
    "            if not player[\"player_points\"][\"total\"]:\n",
    "                # Can skip rest if no points\n",
    "                continue\n",
    "\n",
    "            # Team points by player\n",
    "            # if team_points_by_player[player[\"player_key\"]][\"name\"] is None:\n",
    "            #     team_points_by_player[player[\"player_key\"]][\"name\"] = player[\"name\"][\"full\"]\n",
    "            #     team_points_by_player[player[\"player_key\"]][\"image_url\"] = player[\"image_url\"]\n",
    "            # team_points_by_player[player[\"player_key\"]][\"points\"] += float(player[\"player_points\"][\"total\"])\n",
    "            \n",
    "            # Team points by opposing player\n",
    "            if opp_players_by_team[opp_team][player[\"player_key\"]][\"name\"] is None:\n",
    "                opp_players_by_team[opp_team][player[\"player_key\"]][\"name\"] = player[\"name\"][\"full\"]\n",
    "                opp_players_by_team[opp_team][player[\"player_key\"]][\"image_url\"] = player[\"image_url\"]\n",
    "            opp_players_by_team[opp_team][player[\"player_key\"]][\"points\"] += float(player[\"player_points\"][\"total\"])\n",
    "\n",
    "            # Team points by NHL team\n",
    "            # player_game_log = query.get_game_log_by_player(player[\"player_key\"], player[\"name\"][\"full\"], player[\"display_position\"])\n",
    "            # nhl_team = query.get_player_team_on_date(player_game_log, week_end_date)\n",
    "            # team_points_by_nhl_team[nhl_team] += float(player[\"player_points\"][\"total\"])\n",
    "            \n",
    "    # team_points_by_nhl_team = sorted(team_points_by_nhl_team.items(), key=lambda item: item[1], reverse=True)\n",
    "    # team_points_by_player = sorted(team_points_by_player.values(), key=lambda value: value[\"points\"], reverse=True)\n",
    "    # top_nhl_team = team_points_by_nhl_team[0][0]\n",
    "    # top_nhl_team_pct = round(team_points_by_nhl_team[0][1]/sum([row[1] for row in team_points_by_nhl_team])*100)\n",
    "    # top_player = team_points_by_player[0]\n",
    "    # top_player_pct = round(top_player[\"points\"]/sum([row[\"points\"] for row in team_points_by_player])*100)\n",
    "    # top_player_by_team[team[\"team_key\"]] = {\"player_name\": top_player[\"name\"], \"player_img\": top_player[\"image_url\"], \"player_pct\": top_player_pct}\n",
    "top_opp_player_by_team = {k: sorted(v.values(), key=lambda x: x[\"points\"], reverse=True)[0] for k, v in opp_players_by_team.items()}\n",
    "top_opp_player_by_team_sorted = sorted(top_opp_player_by_team.items(), key=lambda x: x[1][\"points\"], reverse=True)\n",
    "top_opp_player_by_team_sorted_ret = [{\"rank\": i+1, \"image_url\": v[\"image_url\"], \"main_text\": v[\"name\"], \"sub_text\": query.get_team_name_from_key(k), \"stat\": round(v[\"points\"], 1)} for i, [k, v] in enumerate(top_opp_player_by_team_sorted)]\n",
    "top_opp_player_by_team_sorted_ret\n",
    "# top_player_by_team_sorted = sorted(top_player_by_team.items(), key=lambda x: x[1][\"player_pct\"], reverse=True)\n",
    "# top_player_by_team_sorted_ret = [\n",
    "#     {\n",
    "#         \"rank\": i+1, \n",
    "#         \"image_url\": v[\"player_img\"], \n",
    "#         \"main_text\": v[\"player_name\"], \n",
    "#         \"sub_text\": query.get_team_name_from_key(k), \n",
    "#         \"stat\": v[\"player_pct\"]\n",
    "#     } for i, [k, v] in enumerate(top_player_by_team_sorted)\n",
    "# ]\n",
    "# top_player_by_team_sorted_ret"
   ]
  },
  {
   "cell_type": "code",
   "execution_count": null,
   "metadata": {},
   "outputs": [],
   "source": [
    "def get_team_name(team_key):\n",
    "    team_name = next(team[\"name\"] for team in teams if team[\"team_key\"] == team_key)\n",
    "    return team_name"
   ]
  },
  {
   "cell_type": "code",
   "execution_count": null,
   "metadata": {},
   "outputs": [],
   "source": [
    "def get_all_team_rosters_by_date(date):\n",
    "    \"\"\"\n",
    "    Parameters:\n",
    "    date (str): Date to get roster for in YYYY-MM-DD format\n",
    "\n",
    "    Returns:\n",
    "    List of teams with the roster details for that date\n",
    "    (does not include stats, need to make a separate reequest to get stats for all these players)\n",
    "    Trieed everything, can't get stats if you're getting data for multiple teams\n",
    "    f\"{BASE_URL}/league/{league_key}/teams/roster;date={date}/players/stats;type=date;date={date}\" doesn't work\n",
    "    \"\"\"\n",
    "    league_key = f\"{game_id}.l.{league_id}\"\n",
    "    url = f\"{BASE_URL}/league/{league_key}/teams/roster;date={date}/players\" # TODO: Would it be better to store team_keys once and make request to teams endpoint instad of league?\n",
    "    resp_data = api_request(url)[\"league\"][\"teams\"]\n",
    "    return resp_data"
   ]
  },
  {
   "cell_type": "code",
   "execution_count": null,
   "metadata": {},
   "outputs": [],
   "source": [
    "def get_stats_for_players_by_date(player_keys, date):\n",
    "    \"\"\"\n",
    "    Parameters:\n",
    "    player_keys (str[]): All player keys\n",
    "    date (str): Date to get roster for in YYYY-MM-DD format\n",
    "    \"\"\"\n",
    "    league_key = f\"{game_id}.l.{league_id}\"\n",
    "    data = []\n",
    "    for i in range(math.ceil(len(player_keys)/25)):\n",
    "        player_keys_str = \",\".join(player_keys[i*25:min((i+1)*25, len(player_keys))])\n",
    "        url = f\"{BASE_URL}/league/{league_key}/players;player_keys={player_keys_str}/stats;type=date;date={date};start={i*25}\" # Need to access league endpoint to get player_points attribute, otherwise calculate TODO: Is it faster to calculate it ourselves or request more information from the API?\n",
    "        resp_data = api_request(url)\n",
    "        data += resp_data[\"league\"][\"players\"]\n",
    "    return data"
   ]
  },
  {
   "cell_type": "code",
   "execution_count": null,
   "metadata": {},
   "outputs": [],
   "source": [
    "def flatten_list_of_lists(list_of_lists):\n",
    "    return [item for sublist in list_of_lists for item in sublist]"
   ]
  },
  {
   "cell_type": "code",
   "execution_count": null,
   "metadata": {},
   "outputs": [],
   "source": [
    "\"\"\"\n",
    "Things to track\n",
    "- Points missed out on\n",
    "- Number of times roster wasn't optimized\n",
    "\"\"\"\n",
    "def get_bench_oppurtunity_cost(bench_players, team_roster, players_points):\n",
    "    def get_replacement_players(bench_player):\n",
    "        replacement_positions = bench_player[\"display_position\"].split(\",\")\n",
    "        replacement_players = []\n",
    "        for position in replacement_positions:\n",
    "            players_matching_position = [player for player in team_roster if player[\"selected_position\"][\"position\"] == position and player[\"player_key\"] not in selected_replacements]\n",
    "            new_positions = flatten_list_of_lists([player[\"display_position\"].split(\",\") for player in players_matching_position])\n",
    "            new_positions_unique = [position for position in new_positions if position not in replacement_positions]\n",
    "            replacement_positions += new_positions_unique\n",
    "            replacement_players += players_matching_position\n",
    "        return replacement_players\n",
    "\n",
    "    selected_replacements = []\n",
    "    points_missed_out = 0\n",
    "    num_wrong_bench = 0\n",
    "    for bench_player in sorted(bench_players, key=lambda player: players_points[player[\"player_key\"]], reverse=True):\n",
    "        replacement_players = get_replacement_players(bench_player)\n",
    "        if len(replacement_players) == 0:\n",
    "            num_wrong_bench += 1\n",
    "            points_missed_out += players_points[bench_player[\"player_key\"]] - players_points.get(worst_replacement_player[\"player_key\"], 0)\n",
    "            selected_replacements.append(worst_replacement_player[\"player_key\"])\n",
    "        else:\n",
    "            worst_replacement_player = sorted(replacement_players, key=lambda player: players_points.get(player[\"player_key\"], 0))[0]\n",
    "            if players_points.get(worst_replacement_player[\"player_key\"], 0) < players_points[bench_player[\"player_key\"]]:\n",
    "                num_wrong_bench += 1\n",
    "                points_missed_out += players_points[bench_player[\"player_key\"]] - players_points.get(worst_replacement_player[\"player_key\"], 0)\n",
    "                selected_replacements.append(worst_replacement_player[\"player_key\"])\n",
    "    num_benched = len(bench_players)\n",
    "    return points_missed_out, num_wrong_bench, num_benched"
   ]
  },
  {
   "cell_type": "code",
   "execution_count": null,
   "metadata": {},
   "outputs": [],
   "source": [
    "\"\"\"\n",
    "Alternative reality\n",
    "\"\"\"\n",
    "# TODO: Check if playoff even exists, otherwise use endweek\n",
    "num_reg_weeks = playoff_start_week - league_start_week\n",
    "weeks = \",\".join([str(week) for week in range(league_start_week, playoff_start_week)])\n",
    "url = f\"https://fantasysports.yahooapis.com/fantasy/v2/league/{league_key}/scoreboard;week={weeks}/matchups\"\n",
    "matchups = get_response(url)[\"league\"][\"scoreboard\"][\"matchups\"]\n",
    "team_schedules = defaultdict(lambda: {\"points\": [], \"opponent\": []})\n",
    "for matchup in matchups:\n",
    "    teams = matchup[\"teams\"]\n",
    "    team_schedules[teams[0][\"team_key\"]][\"points\"].append(float(teams[0][\"team_points\"][\"total\"]))\n",
    "    team_schedules[teams[1][\"team_key\"]][\"points\"].append(float(teams[1][\"team_points\"][\"total\"]))\n",
    "    team_schedules[teams[0][\"team_key\"]][\"opponent\"].append({\"key\": teams[1][\"team_key\"], \"points\": float(teams[1][\"team_points\"][\"total\"])})\n",
    "    team_schedules[teams[1][\"team_key\"]][\"opponent\"].append({\"key\": teams[0][\"team_key\"], \"points\": float(teams[0][\"team_points\"][\"total\"])})\n",
    "num_teams = 8 # TODO: change len(teams)\n",
    "team_schedule_matrix = [[0 for _ in range(num_teams)] for _ in range(num_teams)]\n",
    "# print(prettify_data(list(team_schedules.values())))\n",
    "for i, [team_a_key, team_a]  in enumerate(team_schedules.items()):\n",
    "    for j, team_b in enumerate(team_schedules.values()):\n",
    "        results = [0.5 if team_a_pts == team_opp[\"points\"] else team_a_pts > team_opp[\"points\"] for team_a_pts, team_opp in zip(team_a[\"points\"], team_b[\"opponent\"]) if team_opp[\"key\"] != team_a_key]\n",
    "        percent = round(sum(results)/len(results), 3)\n",
    "        team_schedule_matrix[i][j] = percent\n",
    "team_schedule_matrix"
   ]
  },
  {
   "cell_type": "code",
   "execution_count": null,
   "metadata": {},
   "outputs": [],
   "source": [
    "\"\"\"\n",
    "Selected Position Values: {'G', 'NA', 'IR+', 'D', 'BN', 'RW', 'LW', 'C'}\n",
    "- Number of games played by team\n",
    "- Points left on bench\n",
    "\n",
    "Theodore's Poo Poo Hospital 1066\n",
    "Eric’s a Bitch Team         1045\n",
    "Cyrus's Cursed Team         1043\n",
    "eric's Awe-Inspiring Team   1021\n",
    "Tim's Terrific Team         1004\n",
    "adam2                       950\n",
    "Kevin's Incredible Team     907\n",
    "Miami Steamrollers          775\n",
    "\"\"\"\n",
    "league = get_league()\n",
    "league_start_date = datetime.strptime(league[\"start_date\"], \"%Y-%m-%d\")\n",
    "league_end_date = datetime.strptime(league[\"end_date\"], \"%Y-%m-%d\")\n",
    "games_by_team = defaultdict(int)\n",
    "points_left_on_bench_by_team = defaultdict(list)\n",
    "benches_by_team = defaultdict(lambda: {\"points_missed_out\": 0, \"num_wrong_bench\": 0, \"num_benched\": 0})\n",
    "for i in range((league_end_date - league_start_date).days+1):\n",
    "    print(i)\n",
    "    current_date_str = (league_start_date + timedelta(days=i)).strftime(\"%Y-%m-%d\")\n",
    "    teams = get_all_team_rosters_by_date(current_date_str)\n",
    "    player_keys = [player[\"player_key\"] for team in teams for player in team[\"roster\"][\"players\"]] # This needs to be done first so request can be batched\n",
    "    players = get_stats_for_players_by_date(player_keys, current_date_str)\n",
    "    players_points = {player[\"player_key\"]: float(player[\"player_points\"][\"total\"]) for player in players if player[\"player_stats\"][\"stats\"][0][\"value\"] != \"-\"} # Filter out players that didn't play that day\n",
    "    for team in teams:\n",
    "        bench_players = []\n",
    "        team_roster = team[\"roster\"][\"players\"]\n",
    "        for player in team_roster:\n",
    "            if player[\"selected_position\"][\"position\"] not in [\"BN\", \"IR+\", \"NA\"] and player[\"player_key\"] in players_points:\n",
    "                games_by_team[team[\"team_key\"]] += 1\n",
    "            elif player[\"selected_position\"][\"position\"] in [\"BN\", \"IR+\", \"NA\"] and player[\"player_key\"] in players_points:\n",
    "                bench_players.append(player)\n",
    "        points_missed_out, num_wrong_bench, num_benched = get_bench_oppurtunity_cost(bench_players, team_roster, players_points)\n",
    "        benches_by_team[team[\"team_key\"]][\"points_missed_out\"] += points_missed_out\n",
    "        benches_by_team[team[\"team_key\"]][\"num_wrong_bench\"] += num_wrong_bench\n",
    "        benches_by_team[team[\"team_key\"]][\"num_benched\"] += num_benched\n",
    "games_by_team_sorted = sorted(games_by_team.items(), key=lambda item: item[1], reverse=True)\n",
    "games_by_team_sorted = [[get_team_name(team_key), games] for team_key, games in games_by_team_sorted]"
   ]
  },
  {
   "cell_type": "code",
   "execution_count": null,
   "metadata": {},
   "outputs": [],
   "source": [
    "for team_key, bench_stats in benches_by_team.items():\n",
    "    print(f'{get_team_name(team_key)} {round(bench_stats[\"points_missed_out\"]/bench_stats[\"num_benched\"], 2)} {round(bench_stats[\"num_wrong_bench\"]/bench_stats[\"num_benched\"], 2)}')"
   ]
  },
  {
   "cell_type": "code",
   "execution_count": null,
   "metadata": {},
   "outputs": [],
   "source": [
    "def get_league_game_weeks():\n",
    "    game_weeks = get_response(\n",
    "        f\"https://fantasysports.yahooapis.com/fantasy/v2/game/{game_id}/game_weeks\", \n",
    "    )[\"game\"][\"game_weeks\"]\n",
    "    game_weeks_league = game_weeks\n",
    "    game_weeks_league[league_start_week-1][\"start\"] = league_start_date_str # Should it be -1 or -league_start_week?\n",
    "    game_weeks_league[league_end_week-1][\"end\"] = league_end_date_str\n",
    "    return game_weeks_league"
   ]
  },
  {
   "cell_type": "code",
   "execution_count": null,
   "metadata": {},
   "outputs": [],
   "source": [
    "def get_dates_by_week(week):\n",
    "    league_game_weeks = get_league_game_weeks()\n",
    "    start_date_str = league_game_weeks[week-1][\"start\"]\n",
    "    end_date_str = league_game_weeks[week-1][\"end\"]\n",
    "    start_date = datetime.strptime(start_date_str, \"%Y-%m-%d\")\n",
    "    end_date = datetime.strptime(end_date_str, \"%Y-%m-%d\")\n",
    "    return [(start_date + timedelta(days=i)).strftime(\"%Y-%m-%d\") for i in range((end_date - start_date).days + 1)]"
   ]
  },
  {
   "cell_type": "code",
   "execution_count": null,
   "metadata": {},
   "outputs": [],
   "source": [
    "def get_players(player_keys):\n",
    "    return [\n",
    "        player \n",
    "        for i in range(int(len(player_keys) / 25) + 1)\n",
    "        for player in get_response(\n",
    "            f\"https://fantasysports.yahooapis.com/fantasy/v2/league/{league['league_key']}/players;player_keys={','.join(player_keys[i*25:min((i+1)*25, len(player_keys))])};start={i*25}/stats\"\n",
    "        )[\"league\"][\"players\"]\n",
    "    ]"
   ]
  },
  {
   "cell_type": "code",
   "execution_count": null,
   "metadata": {},
   "outputs": [],
   "source": [
    "def get_top_n_players_by_position(n, position):\n",
    "    if position == \"F\":\n",
    "        position = \"C,LW,RW\"\n",
    "    return [\n",
    "        player \n",
    "        for i in range(int(n/25)+1) \n",
    "        for player in get_response(\n",
    "            f\"https://fantasysports.yahooapis.com/fantasy/v2/league/{league['league_key']}/players;sort=PTS;sort_type=season;position={position};count={n};start={i*25}/stats\",\n",
    "        )[\"league\"][\"players\"]\n",
    "    ]"
   ]
  },
  {
   "cell_type": "code",
   "execution_count": null,
   "metadata": {},
   "outputs": [],
   "source": [
    "def get_player_game_log_nhl(player_id):\n",
    "    season = f\"{league_season}{league_season+1}\"\n",
    "    return requests.get(f\"https://api-web.nhle.com/v1/player/{player_id}/game-log/{season}/2\").json()[\"gameLog\"] # 2 inndicates regular season games"
   ]
  },
  {
   "cell_type": "code",
   "execution_count": null,
   "metadata": {},
   "outputs": [],
   "source": [
    "def get_game_info_nhl(game_id):\n",
    "    return requests.get(f\"https://api-web.nhle.com/v1/gamecenter/{game_id}/landing\").json()\n"
   ]
  },
  {
   "cell_type": "code",
   "execution_count": null,
   "metadata": {},
   "outputs": [],
   "source": [
    "def get_player_team_by_date(player_name: str, player_position: str, date: str):\n",
    "    '''\n",
    "    Parameters:\n",
    "    player_name (str): Full name of player\n",
    "    date (str): Date to search for in YYYY-MM-DD format\n",
    "\n",
    "    Returns:\n",
    "    str: 3 letter abbreviation for NHL team name\n",
    "    '''\n",
    "    player_name_url = player_name.replace(\" \", \"%20\")\n",
    "    players = requests.get(f\"https://search.d3.nhle.com/api/v1/search/player?culture=en-us&limit=20&q={player_name_url}%2A\").json()\n",
    "    players = [player for player in players if player[\"name\"] == player_name] # Matching names\n",
    "    # If there are multiple players matching name, filter by other attributes\n",
    "    if len(players) > 1:\n",
    "        players = [player for player in players if player[\"lastSeasonId\"] and int(player[\"lastSeasonId\"][:4]) >= league_info.season]\n",
    "        if len(players) > 1:\n",
    "            players = [player for player in players if player[\"positionCode\"] in player_position.split(\",\")]\n",
    "    if len(players) != 1:\n",
    "        print(len(players), player_name, players)\n",
    "    player = players[0]\n",
    "    player_game_log = get_player_game_log_nhl(player[\"playerId\"])\n",
    "    game_log_for_date = next([game_log for game_log in player_game_log if game_log[\"gameDate\"] == date])\n",
    "    print(game_log_for_date)\n",
    "    # return team_name"
   ]
  },
  {
   "cell_type": "code",
   "execution_count": null,
   "metadata": {},
   "outputs": [],
   "source": [
    "'''\n",
    "Most/least points after dropping a player on average\n",
    "'''\n",
    "transactions = query.get_league_transactions()\n",
    "transactions_drop = [{\"player\": player, \"timestamp\": transaction.timestamp} for transaction in transactions for player in transaction.players if player.transaction_data.type == \"drop\"]\n",
    "team_name = {}\n",
    "points_by_team = defaultdict(list)\n",
    "for transaction in transactions_drop:\n",
    "    print(transaction)\n",
    "    transaction_date = datetime.fromtimestamp(transaction[\"timestamp\"], tz=ZoneInfo(\"America/New_York\"))\n",
    "    transaction_player = transaction[\"player\"]\n",
    "    team_key = transaction_player.transaction_data.source_team_key\n",
    "    player_name = transaction_player.name.full\n",
    "    player_name_url = player_name.replace(\" \", \"%20\")\n",
    "    players = requests.get(f\"https://search.d3.nhle.com/api/v1/search/player?culture=en-us&limit=20&q={player_name_url}%2A\").json()\n",
    "    players = [player for player in players if player[\"name\"] == player_name] # Matching names\n",
    "    # If there are multiple players matching name, filter by other attributes\n",
    "    if len(players) > 1:\n",
    "        players = [player for player in players if player[\"lastSeasonId\"] and int(player[\"lastSeasonId\"][:4]) >= league_info.season]\n",
    "        if len(players) > 1:\n",
    "            players = [player for player in players if player[\"positionCode\"] in transaction_player.display_position.split(\",\")]\n",
    "    if len(players) != 1:\n",
    "        print(len(players), player_name, players)\n",
    "    player = players[0]\n",
    "    player_game_log = get_player_game_log_nhl(player[\"playerId\"])\n",
    "    if len(player_game_log) == 0:\n",
    "        print(f\"{player_name} didn't play any games this season\")\n",
    "        continue\n",
    "    # TODO: Consider case when someone is dropped due to injury\n",
    "    # last_game = [game_log for game_log in player_game_log if datetime.strptime(game_log[\"gameDate\"], \"%Y-%m-%d\").replace(tzinfo=timezone(timedelta(hours=-4))).date() <= transaction_date.date()]\n",
    "    # if len(last_game) == 0: # No games played before drop\n",
    "    #     first_game = player_game_log[-1]\n",
    "    #     print(f\"{player_name} didn't play any games yet\")\n",
    "    #     continue\n",
    "    # Next game could either be the same day as pickup or game after pickup\n",
    "    next_game = [game_log for game_log in player_game_log if datetime.strptime(game_log[\"gameDate\"], \"%Y-%m-%d\").replace(tzinfo=timezone(timedelta(hours=-4))).date() >= transaction_date.date()]\n",
    "    if len(next_game) == 0: # Didn't play the rest of the season\n",
    "        print(f\"{player_name} didn't play any more games\")\n",
    "        continue\n",
    "    next_game_date = next_game[-1][\"gameDate\"]\n",
    "    player_stats = query.get_player_stats_by_date(transaction_player.player_key, next_game_date)\n",
    "    points_by_team[team_key].append(player_stats.player_points.total)\n",
    "    team_name[team_key] = transaction_player.transaction_data.source_team_name\n",
    "team_average = []\n",
    "for team_key, team_points in points_by_team.items():\n",
    "    team_average.append((team_name[team_key], round(sum(team_points)/len(team_points), 1)))\n",
    "team_average = sorted(team_average, key=lambda x: x[1])\n",
    "print(team_average)"
   ]
  },
  {
   "cell_type": "code",
   "execution_count": null,
   "metadata": {},
   "outputs": [],
   "source": [
    "'''\n",
    "Biggest comeback\n",
    "52.8s\n",
    "'''\n",
    "deficits = []\n",
    "for week in range(league_start_week, league_end_week + 1):\n",
    "    matchups = get_matchups_by_week(week)\n",
    "    for matchup in matchups:\n",
    "        # Comeback win can't happen without a winner\n",
    "        if matchup.is_tied:\n",
    "            continue\n",
    "        winner_id = int(matchup.winner_team_key.split(\".\")[-1])\n",
    "        team_ids = [matchup.teams[0].team_id, matchup.teams[1].team_id]\n",
    "        team_w_idx, team_l_idx = (0, 1) if winner_id == team_ids[0] else (1, 0)\n",
    "        deficit = 0\n",
    "        start_date = datetime.strptime(matchup.week_start, \"%Y-%m-%d\")\n",
    "        end_date = datetime.strptime(matchup.week_end, \"%Y-%m-%d\")\n",
    "        # Don't include the last day since the matchup is over\n",
    "        for i in range((end_date - start_date).days):\n",
    "            current_date_str = (start_date + timedelta(days=i)).strftime(\"%Y-%m-%d\")\n",
    "            team_w_points = matchup.teams[team_w_idx].team_stats_collection[i][\"team_points\"].total\n",
    "            team_l_points = matchup.teams[team_l_idx].team_stats_collection[i][\"team_points\"].total\n",
    "            deficit = round(deficit + team_l_points - team_w_points, 1)\n",
    "            if deficit > 0:\n",
    "                deficits.append((deficit, matchup))\n",
    "biggest_deficits = sorted(deficits, key=lambda x: x[0])\n",
    "biggest_deficits = list({f\"{matchup.week}.{matchup.winner_team_key}\": (deficit, matchup) for (deficit, matchup) in biggest_deficits}.values())\n",
    "biggest_deficits = sorted(biggest_deficits, reverse=True, key=lambda x: x[0])\n",
    "print(\"Biggest comebacks\")\n",
    "for diff, matchup in biggest_deficits[:5]:\n",
    "    print(f\"{matchup.week} {matchup.teams[0].name} {matchup.teams[1].name} - {diff}\")"
   ]
  }
 ],
 "metadata": {
  "kernelspec": {
   "display_name": "fantasy_env",
   "language": "python",
   "name": "python3"
  },
  "language_info": {
   "codemirror_mode": {
    "name": "ipython",
    "version": 3
   },
   "file_extension": ".py",
   "mimetype": "text/x-python",
   "name": "python",
   "nbconvert_exporter": "python",
   "pygments_lexer": "ipython3",
   "version": "3.11.11"
  }
 },
 "nbformat": 4,
 "nbformat_minor": 2
}
