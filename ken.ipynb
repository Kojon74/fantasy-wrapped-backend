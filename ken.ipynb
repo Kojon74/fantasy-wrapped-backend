{
 "cells": [
  {
   "cell_type": "code",
   "execution_count": 3,
   "metadata": {},
   "outputs": [],
   "source": [
    "from yfpy.query import YahooFantasySportsQuery\n",
    "from datetime import datetime, timedelta\n",
    "from dotenv import load_dotenv\n",
    "import os"
   ]
  },
  {
   "cell_type": "code",
   "execution_count": 4,
   "metadata": {},
   "outputs": [],
   "source": [
    "load_dotenv()\n",
    "CLIENT_ID = os.getenv(\"CLIENT_ID\")\n",
    "CLIENT_SECRET = os.getenv(\"CLIENT_SECRET\")"
   ]
  },
  {
   "cell_type": "code",
   "execution_count": 110,
   "metadata": {},
   "outputs": [],
   "source": [
    "# Use last season stats so there aren't any spoilers\n",
    "current = False\n",
    "league_id = \"67269\" if current else \"97108\"\n",
    "game_id = 453 if current else 427\n",
    "query = YahooFantasySportsQuery(\n",
    "    league_id=league_id,\n",
    "    game_code=\"nhl\",\n",
    "    game_id=game_id,\n",
    "    yahoo_consumer_key=CLIENT_ID,\n",
    "    yahoo_consumer_secret=CLIENT_SECRET,\n",
    ")"
   ]
  },
  {
   "cell_type": "code",
   "execution_count": 22,
   "metadata": {},
   "outputs": [],
   "source": [
    "league_info = query.get_league_info()\n",
    "start_week = league_info.start_week\n",
    "end_week = league_info.end_week"
   ]
  },
  {
   "cell_type": "code",
   "execution_count": 110,
   "metadata": {},
   "outputs": [],
   "source": [
    "def get_team_stats_by_date(team_id, date):\n",
    "    team_key = f\"{league_info.league_key}.t.{team_id}\"\n",
    "    return query.query(\n",
    "        f\"https://fantasysports.yahooapis.com/fantasy/v2/team/{team_key}/stats;type=date;date={date}\", \n",
    "        [\"team\", [\"team_points\", \"team_projected_points\"]]\n",
    "    )"
   ]
  },
  {
   "cell_type": "code",
   "execution_count": 79,
   "metadata": {},
   "outputs": [],
   "source": [
    "def get_players(player_keys):\n",
    "    return [\n",
    "        player \n",
    "        for i in range(round(len(player_keys) / 25) + 1)\n",
    "        for player in query.query(\n",
    "            f\"https://fantasysports.yahooapis.com/fantasy/v2/league/{league_info.league_key}/players;player_keys={','.join(player_keys[i*25:min((i+1)*25, len(player_keys))])};start={i*25}/stats\",\n",
    "            [\"league\", \"players\"]\n",
    "        )\n",
    "    ]"
   ]
  },
  {
   "cell_type": "code",
   "execution_count": 54,
   "metadata": {},
   "outputs": [],
   "source": [
    "def get_top_n_players_by_position(n, position):\n",
    "    if position == \"F\":\n",
    "        position = \"C,LW,RW\"\n",
    "    return [playere for i in range(round(n/25)+1) for player in query.query(\n",
    "        f\"https://fantasysports.yahooapis.com/fantasy/v2/league/{league_info.league_key}/players;sort=PTS;sort_type=season;position={position};count={n};start={i*25}/stats\",\n",
    "        [\"league\", \"players\"]\n",
    "    )]"
   ]
  },
  {
   "cell_type": "code",
   "execution_count": 125,
   "metadata": {},
   "outputs": [
    {
     "name": "stdout",
     "output_type": "stream",
     "text": [
      "Biggest draft busts\n",
      "J.T. Miller - 97.6\n",
      "Evan Bouchard - 76.6\n",
      "Nathan MacKinnon - 76.3\n",
      "Noah Dobson - 73.2\n",
      "Thatcher Demko - 62.0\n",
      "Biggest draft steals\n",
      "Dougie Hamilton - -293.2\n",
      "Tyson Barrie - -225.8\n",
      "Mikhail Sergachev - -213.2\n",
      "Jack Hughes - -146.6\n",
      "Devon Levi - -144.0\n"
     ]
    }
   ],
   "source": [
    "'''\n",
    "Biggest draft busts/steals\n",
    "'''\n",
    "# Get draft results\n",
    "draft_results = query.get_league_draft_results()\n",
    "draft_players = get_players([draft_result.player_key for draft_result in draft_results])\n",
    "draft_players_by_pos = {\"F\": [], \"D\": [], \"G\": []}\n",
    "positions_map = {\"C\": \"F\", \"LW\": \"F\", \"RW\": \"F\", \"D\": \"D\", \"G\": \"G\"}\n",
    "for draft_player in draft_players:\n",
    "    draft_players_by_pos[positions_map[draft_player.primary_position]].append(draft_player)\n",
    "# Get the top players by position\n",
    "top_players_by_pos = {\n",
    "    \"F\": get_top_n_players_by_position(len(draft_players_by_pos[\"F\"]), \"F\"), \n",
    "    \"D\": get_top_n_players_by_position(len(draft_players_by_pos[\"D\"]), \"D\"), \n",
    "    \"G\": get_top_n_players_by_position(len(draft_players_by_pos[\"G\"]), \"G\")\n",
    "}\n",
    "# Get differences between draft player and top player\n",
    "diffs = []\n",
    "for key in draft_players_by_pos:\n",
    "    for draft_player, top_player in zip(draft_players_by_pos[key], top_players_by_pos[key]):\n",
    "        diff = round(draft_player.player_points.total - top_player.player_points.total, 1)\n",
    "        diffs.append((diff, draft_player))\n",
    "biggest_diffs = sorted(diffs, reverse=True, key=lambda x: x[0])\n",
    "smallest_diffs = sorted(diffs, key=lambda x: x[0])\n",
    "print(\"Biggest draft steals\")\n",
    "for diff, player in biggest_diffs[:5]:\n",
    "    print(f\"{player.name.first} {player.name.last} - {diff}\")\n",
    "print(\"Biggest draft busts\")\n",
    "for diff, player in smallest_diffs[:5]:\n",
    "    print(f\"{player.name.first} {player.name.last} - {diff}\")"
   ]
  },
  {
   "cell_type": "code",
   "execution_count": null,
   "metadata": {},
   "outputs": [],
   "source": [
    "'''\n",
    "Biggest comeback\n",
    "Time: 5m 49.7s\n",
    "Requests: 1176\n",
    "'''\n",
    "req_count = 0\n",
    "max_deficit = 0\n",
    "max_deficit_matchup = None\n",
    "for week_num in range(start_week, end_week + 1):\n",
    "    matchups = query.get_league_matchups_by_week(week_num)\n",
    "    req_count += 1\n",
    "    for matchup in matchups:\n",
    "        # Comeback win can't happen without a winner\n",
    "        if matchiup.is_tied:\n",
    "            continue\n",
    "        winner_id = int(matchup.winner_team_key.split(\".\")[-1])\n",
    "        team_ids = [matchup.teams[0].team_id, matchup.teams[1].team_id]\n",
    "        team_w_id, team_l_id = (team_ids[0], team_ids[1]) if winner_id == team_ids[0] else (team_ids[1], team_ids[0])\n",
    "        deficit = 0\n",
    "        start_date = datetime.strptime(matchup.week_start, \"%Y-%m-%d\")\n",
    "        end_date = datetime.strptime(matchup.week_end, \"%Y-%m-%d\")\n",
    "        # Don't include the last day since the matchup is over\n",
    "        for i in range((end_date - start_date).days):\n",
    "            current_date_str = (start_date + timedelta(days=i)).strftime(\"%Y-%m-%d\")\n",
    "            team_w_points = get_team_stats_by_date(team_w_id, current_date_str).team_points.total\n",
    "            team_l_points = get_team_stats_by_date(team_l_id, current_date_str).team_points.total\n",
    "            req_count += 2\n",
    "            deficit = round(deficit + team_l_points - team_w_points, 1)\n",
    "            if deficit > max_deficit:\n",
    "                max_deficit = deficit\n",
    "                max_deficit_matchup = matchup"
   ]
  },
  {
   "cell_type": "code",
   "execution_count": null,
   "metadata": {},
   "outputs": [],
   "source": [
    "print(max_deficit, max_deficit_matchup)"
   ]
  },
  {
   "cell_type": "code",
   "execution_count": null,
   "metadata": {},
   "outputs": [],
   "source": [
    "req_count\n",
    "\n"
   ]
  },
  {
   "cell_type": "markdown",
   "metadata": {},
   "source": [
    "# Unsused Code"
   ]
  },
  {
   "cell_type": "code",
   "execution_count": 117,
   "metadata": {},
   "outputs": [],
   "source": [
    "def get_league_matchups_by_date(date):\n",
    "    return query.query(f\"https://fantasysports.yahooapis.com/fantasy/v2/league/{league_info.league_key}/scoreboard;date={date}\", [\"league\", \"scoreboard\", \"0\", \"matchups\"])"
   ]
  },
  {
   "cell_type": "code",
   "execution_count": null,
   "metadata": {},
   "outputs": [],
   "source": [
    "'''\n",
    "Biggest comeback, doesn't work\n",
    "'''\n",
    "# TODO: Consider edge case where tied\n",
    "# Convert strings to datetime objects\n",
    "start_date = datetime.strptime(start_date_str, \"%Y-%m-%d\")\n",
    "end_date = datetime.strptime(end_date_str, \"%Y-%m-%d\")\n",
    "\n",
    "# TODO: Don't include the last day since the matchup is over\n",
    "req_count = 1\n",
    "max_deficit = 0\n",
    "max_deficit_matchup = None\n",
    "deficits = [0] * 4 # TODO: Dynamically calculate num_matchups\n",
    "for i in range((end_date - start_date).days):\n",
    "    current_date_str = (start_date + timedelta(days=i)).strftime(\"%Y-%m-%d\")\n",
    "    matchups = get_league_matchups_by_date(current_date_str) # This endpoint doesn't work\n",
    "    req_count += 1\n",
    "    for j, matchup in enumerate(matchups):\n",
    "        print(current_date_str, matchup.week_end, current_date_str == matchup.week_end)\n",
    "        if current_date_str == matchup.week_end:\n",
    "            deficits = [0] * 4\n",
    "            continue\n",
    "        winner_id = int(matchup.winner_team_key.split(\".\")[-1])\n",
    "        team_ids = [matchup.teams[0].team_id, matchup.teams[1].team_id]\n",
    "        team_w_id, team_l_id = (team_ids[0], team_ids[1]) if winner_id == team_ids[0] else (team_ids[1], team_ids[0])\n",
    "        team_l_points = matchup.teams[0].team_points.total if winner_id == matchup.teams[0] else matchup.teams[1].team_points.total\n",
    "        team_w_points = matchup.teams[1].team_points.total if winner_id == matchup.teams[1] else matchup.teams[0].team_points.total\n",
    "        deficits[j] = round(deficits[j] + team_l_points - team_w_points, 1)\n",
    "    if max(deficits) > max_deficit:\n",
    "        max_deficit = max(deficits)\n",
    "        max_meficit_matchup_index = deficits.index(max_deficit)\n",
    "        max_deficit_matchup = matchups[max_meficit_matchup_index]"
   ]
  }
 ],
 "metadata": {
  "kernelspec": {
   "display_name": "fantasy_env",
   "language": "python",
   "name": "python3"
  },
  "language_info": {
   "codemirror_mode": {
    "name": "ipython",
    "version": 3
   },
   "file_extension": ".py",
   "mimetype": "text/x-python",
   "name": "python",
   "nbconvert_exporter": "python",
   "pygments_lexer": "ipython3",
   "version": "3.11.11"
  }
 },
 "nbformat": 4,
 "nbformat_minor": 2
}
