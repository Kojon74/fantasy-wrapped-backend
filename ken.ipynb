{
 "cells": [
  {
   "cell_type": "code",
   "execution_count": 103,
   "metadata": {},
   "outputs": [],
   "source": [
    "from yfpy.query import YahooFantasySportsQuery\n",
    "from datetime import datetime, timedelta"
   ]
  },
  {
   "cell_type": "code",
   "execution_count": 115,
   "metadata": {},
   "outputs": [],
   "source": [
    "# Use last season stats so there aren't any spoilers\n",
    "current = False\n",
    "league_id = \"67269\" if current else \"97108\"\n",
    "game_id = 453 if current else 427\n",
    "query = YahooFantasySportsQuery(\n",
    "    league_id=league_id,\n",
    "    game_code=\"nhl\",\n",
    "    game_id=game_id,\n",
    "    yahoo_consumer_key=\"\",\n",
    "    yahoo_consumer_secret=\"\",\n",
    ")"
   ]
  },
  {
   "cell_type": "code",
   "execution_count": 116,
   "metadata": {},
   "outputs": [],
   "source": [
    "league_info = query.get_league_info()\n",
    "start_date_str = league_info.start_date\n",
    "end_date_str = league_info.end_date\n",
    "start_week = league_info.start_week\n",
    "end_week = league_info.end_week"
   ]
  },
  {
   "cell_type": "code",
   "execution_count": 110,
   "metadata": {},
   "outputs": [],
   "source": [
    "def get_team_stats_by_date(team_id, date):\n",
    "    team_key = f\"{league_info.league_key}.t.{team_id}\"\n",
    "    return query.query(f\"https://fantasysports.yahooapis.com/fantasy/v2/team/{team_key}/stats;type=date;date={date}\", [\"team\", [\"team_points\", \"team_projected_points\"]])"
   ]
  },
  {
   "cell_type": "code",
   "execution_count": null,
   "metadata": {},
   "outputs": [],
   "source": [
    "get_team_stats_by_date(1, \"2023-10-10\") "
   ]
  },
  {
   "cell_type": "code",
   "execution_count": null,
   "metadata": {},
   "outputs": [],
   "source": [
    "'''\n",
    "Biggest comeback\n",
    "Time: 5m 49.7s\n",
    "Requests: 1176\n",
    "'''\n",
    "req_count = 0\n",
    "max_deficit = 0\n",
    "max_deficit_matchup = None\n",
    "for week_num in range(start_week, end_week + 1):\n",
    "    matchups = query.get_league_matchups_by_week(week_num)\n",
    "    req_count += 1\n",
    "    for matchup in matchups:\n",
    "        # Comeback win can't happen without a winner\n",
    "        if matchiup.is_tied:\n",
    "            continue\n",
    "        winner_id = int(matchup.winner_team_key.split(\".\")[-1])\n",
    "        team_ids = [matchup.teams[0].team_id, matchup.teams[1].team_id]\n",
    "        team_w_id, team_l_id = (team_ids[0], team_ids[1]) if winner_id == team_ids[0] else (team_ids[1], team_ids[0])\n",
    "        deficit = 0\n",
    "        start_date = datetime.strptime(matchup.week_start, \"%Y-%m-%d\")\n",
    "        end_date = datetime.strptime(matchup.week_end, \"%Y-%m-%d\")\n",
    "        # Don't include the last day since the matchup is over\n",
    "        for i in range((end_date - start_date).days):\n",
    "            current_date_str = (start_date + timedelta(days=i)).strftime(\"%Y-%m-%d\")\n",
    "            team_w_points = get_team_stats_by_date(team_w_id, current_date_str).team_points.total\n",
    "            team_l_points = get_team_stats_by_date(team_l_id, current_date_str).team_points.total\n",
    "            req_count += 2\n",
    "            deficit = round(deficit + team_l_points - team_w_points, 1)\n",
    "            if deficit > max_deficit:\n",
    "                max_deficit = deficit\n",
    "                max_deficit_matchup = matchup"
   ]
  },
  {
   "cell_type": "code",
   "execution_count": null,
   "metadata": {},
   "outputs": [],
   "source": [
    "print(max_deficit, max_deficit_matchup)"
   ]
  },
  {
   "cell_type": "code",
   "execution_count": null,
   "metadata": {},
   "outputs": [],
   "source": [
    "req_count\n",
    "\n"
   ]
  },
  {
   "cell_type": "markdown",
   "metadata": {},
   "source": [
    "# Unsused Code"
   ]
  },
  {
   "cell_type": "code",
   "execution_count": 117,
   "metadata": {},
   "outputs": [],
   "source": [
    "def get_league_matchups_by_date(date):\n",
    "    return query.query(f\"https://fantasysports.yahooapis.com/fantasy/v2/league/{league_info.league_key}/scoreboard;date={date}\", [\"league\", \"scoreboard\", \"0\", \"matchups\"])"
   ]
  },
  {
   "cell_type": "code",
   "execution_count": null,
   "metadata": {},
   "outputs": [],
   "source": [
    "'''\n",
    "Biggest comeback, doesn't work\n",
    "'''\n",
    "# TODO: Consider edge case where tied\n",
    "# Convert strings to datetime objects\n",
    "start_date = datetime.strptime(start_date_str, \"%Y-%m-%d\")\n",
    "end_date = datetime.strptime(end_date_str, \"%Y-%m-%d\")\n",
    "\n",
    "# TODO: Don't include the last day since the matchup is over\n",
    "req_count = 1\n",
    "max_deficit = 0\n",
    "max_deficit_matchup = None\n",
    "deficits = [0] * 4 # TODO: Dynamically calculate num_matchups\n",
    "for i in range((end_date - start_date).days):\n",
    "    current_date_str = (start_date + timedelta(days=i)).strftime(\"%Y-%m-%d\")\n",
    "    matchups = get_league_matchups_by_date(current_date_str) # This endpoint doesn't work\n",
    "    req_count += 1\n",
    "    for j, matchup in enumerate(matchups):\n",
    "        print(current_date_str, matchup.week_end, current_date_str == matchup.week_end)\n",
    "        if current_date_str == matchup.week_end:\n",
    "            deficits = [0] * 4\n",
    "            continue\n",
    "        winner_id = int(matchup.winner_team_key.split(\".\")[-1])\n",
    "        team_ids = [matchup.teams[0].team_id, matchup.teams[1].team_id]\n",
    "        team_w_id, team_l_id = (team_ids[0], team_ids[1]) if winner_id == team_ids[0] else (team_ids[1], team_ids[0])\n",
    "        team_l_points = matchup.teams[0].team_points.total if winner_id == matchup.teams[0] else matchup.teams[1].team_points.total\n",
    "        team_w_points = matchup.teams[1].team_points.total if winner_id == matchup.teams[1] else matchup.teams[0].team_points.total\n",
    "        deficits[j] = round(deficits[j] + team_l_points - team_w_points, 1)\n",
    "    if max(deficits) > max_deficit:\n",
    "        max_deficit = max(deficits)\n",
    "        max_meficit_matchup_index = deficits.index(max_deficit)\n",
    "        max_deficit_matchup = matchups[max_meficit_matchup_index]"
   ]
  }
 ],
 "metadata": {
  "kernelspec": {
   "display_name": "fantasy_env",
   "language": "python",
   "name": "python3"
  },
  "language_info": {
   "codemirror_mode": {
    "name": "ipython",
    "version": 3
   },
   "file_extension": ".py",
   "mimetype": "text/x-python",
   "name": "python",
   "nbconvert_exporter": "python",
   "pygments_lexer": "ipython3",
   "version": "3.11.11"
  }
 },
 "nbformat": 4,
 "nbformat_minor": 2
}
