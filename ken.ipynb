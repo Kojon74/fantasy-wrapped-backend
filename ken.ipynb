{
 "cells": [
  {
   "cell_type": "code",
   "execution_count": 239,
   "metadata": {},
   "outputs": [],
   "source": [
    "from yfpy.query import YahooFantasySportsQuery\n",
    "from yfpy.models import YahooFantasyObject\n",
    "from datetime import datetime, timedelta, timezone\n",
    "from dotenv import load_dotenv\n",
    "import os\n",
    "from nhlpy import NHLClient\n",
    "from yfpy.utils import reformat_json_list, unpack_data, prettify_data, jsonify_data\n",
    "import requests\n",
    "import json\n",
    "from zoneinfo import ZoneInfo\n",
    "from collections import defaultdict"
   ]
  },
  {
   "cell_type": "code",
   "execution_count": 2,
   "metadata": {},
   "outputs": [],
   "source": [
    "load_dotenv()\n",
    "CLIENT_ID = os.getenv(\"CLIENT_ID\")\n",
    "CLIENT_SECRET = os.getenv(\"CLIENT_SECRET\")"
   ]
  },
  {
   "cell_type": "code",
   "execution_count": 3,
   "metadata": {},
   "outputs": [],
   "source": [
    "nhl_client = NHLClient()"
   ]
  },
  {
   "cell_type": "code",
   "execution_count": 264,
   "metadata": {},
   "outputs": [],
   "source": [
    "# Use last season stats so there aren't any spoilers\n",
    "current = False\n",
    "league_id = \"67269\" if current else \"97108\"\n",
    "game_id = 453 if current else 427\n",
    "query = YahooFantasySportsQuery(\n",
    "    league_id=league_id,\n",
    "    game_code=\"nhl\",\n",
    "    game_id=game_id,\n",
    "    yahoo_consumer_key=CLIENT_ID,\n",
    "    yahoo_consumer_secret=CLIENT_SECRET,\n",
    ")"
   ]
  },
  {
   "cell_type": "code",
   "execution_count": 5,
   "metadata": {},
   "outputs": [],
   "source": [
    "league_info = query.get_league_info()\n",
    "league_start_week = league_info.start_week\n",
    "league_end_week = league_info.end_week\n",
    "league_start_date_str = league_info.start_date\n",
    "league_end_date_str = league_info.end_date"
   ]
  },
  {
   "cell_type": "code",
   "execution_count": 7,
   "metadata": {},
   "outputs": [],
   "source": [
    "def get_league_game_weeks():\n",
    "    game_weeks = query.query(\n",
    "        f\"https://fantasysports.yahooapis.com/fantasy/v2/game/{game_id}/game_weeks\", \n",
    "        [\"game\", \"game_weeks\"]\n",
    "    )\n",
    "    game_weeks_league = game_weeks\n",
    "    game_weeks_league[league_start_week-1].start = league_start_date_str\n",
    "    game_weeks_league[league_end_week-1].end = league_end_date_str\n",
    "    return game_weeks_league"
   ]
  },
  {
   "cell_type": "code",
   "execution_count": 8,
   "metadata": {},
   "outputs": [],
   "source": [
    "league_game_weeks = get_league_game_weeks()"
   ]
  },
  {
   "cell_type": "code",
   "execution_count": 9,
   "metadata": {},
   "outputs": [],
   "source": [
    "def get_dates_by_week(week):\n",
    "    start_date_str = league_game_weeks[week-1].start\n",
    "    end_date_str = league_game_weeks[week-1].end\n",
    "    start_date = datetime.strptime(start_date_str, \"%Y-%m-%d\")\n",
    "    end_date = datetime.strptime(end_date_str, \"%Y-%m-%d\")\n",
    "    return [(start_date + timedelta(days=i)).strftime(\"%Y-%m-%d\") for i in range((end_date - start_date).days + 1)]"
   ]
  },
  {
   "cell_type": "code",
   "execution_count": 179,
   "metadata": {},
   "outputs": [],
   "source": [
    "def get_players(player_keys):\n",
    "    return [\n",
    "        player \n",
    "        for i in range(int(len(player_keys) / 25) + 1)\n",
    "        for player in query.query(\n",
    "            f\"https://fantasysports.yahooapis.com/fantasy/v2/league/{league_info.league_key}/players;player_keys={','.join(player_keys[i*25:min((i+1)*25, len(player_keys))])};start={i*25}/stats\",\n",
    "            [\"league\", \"players\"]\n",
    "        )\n",
    "    ]"
   ]
  },
  {
   "cell_type": "code",
   "execution_count": 54,
   "metadata": {},
   "outputs": [],
   "source": [
    "def get_top_n_players_by_position(n, position):\n",
    "    if position == \"F\":\n",
    "        position = \"C,LW,RW\"\n",
    "    return [playere for i in range(int(n/25)+1) for player in query.query(\n",
    "        f\"https://fantasysports.yahooapis.com/fantasy/v2/league/{league_info.league_key}/players;sort=PTS;sort_type=season;position={position};count={n};start={i*25}/stats\",\n",
    "        [\"league\", \"players\"]\n",
    "    )]"
   ]
  },
  {
   "cell_type": "code",
   "execution_count": 55,
   "metadata": {},
   "outputs": [],
   "source": [
    "'''\n",
    "Get's daily scores for each matchup of the week.\n",
    "'''\n",
    "def get_matchups_by_week(week):\n",
    "    dates = get_dates_by_week(week)\n",
    "    resp = query.get_response(\n",
    "        f\"https://fantasysports.yahooapis.com/fantasy/v2/league/{league_info.league_key}/scoreboard;week={week}/matchups/teams/stats_collection;types=date;date={','.join(dates)}\", \n",
    "    )\n",
    "    teams_dict = resp.json().get('fantasy_content', {}).get('league', [{}])[1].get('scoreboard', {}).get(\"0\").get(\"matchups\", {})\n",
    "    teams_dict = unpack_data(teams_dict, YahooFantasyObject)\n",
    "    teams_dict = [el[\"matchup\"] for el in teams_dict] # Convert object to list\n",
    "    return teams_dict"
   ]
  },
  {
   "cell_type": "code",
   "execution_count": 181,
   "metadata": {},
   "outputs": [],
   "source": [
    "def get_player_game_log_nhl(player_id):\n",
    "    season = f\"{league_info.season}{league_info.season+1}\"\n",
    "    return requests.get(f\"https://api-web.nhle.com/v1/player/{player_id}/game-log/{season}/2\").json()[\"gameLog\"] # 2 inndicates regular season games"
   ]
  },
  {
   "cell_type": "code",
   "execution_count": 193,
   "metadata": {},
   "outputs": [],
   "source": [
    "def get_game_info_nhl(game_id):\n",
    "    return requests.get(f\"https://api-web.nhle.com/v1/gamecenter/{game_id}/landing\").json()\n"
   ]
  },
  {
   "cell_type": "code",
   "execution_count": null,
   "metadata": {},
   "outputs": [],
   "source": [
    "'''\n",
    "Most/least points after dropping a player on average\n",
    "'''\n",
    "transactions = query.get_league_transactions()\n",
    "transactions_drop = [{\"player\": player, \"timestamp\": transaction.timestamp} for transaction in transactions for player in transaction.players if player.transaction_data.type == \"drop\"]\n",
    "team_name = {}\n",
    "points_by_team = defaultdict(list)\n",
    "for transaction in transactions_drop:\n",
    "    print(transaction)\n",
    "    transaction_date = datetime.fromtimestamp(transaction[\"timestamp\"], tz=ZoneInfo(\"America/New_York\"))\n",
    "    transaction_player = transaction[\"player\"]\n",
    "    team_key = transaction_player.transaction_data.source_team_key\n",
    "    player_name = transaction_player.name.full\n",
    "    player_name_url = player_name.replace(\" \", \"%20\")\n",
    "    players = requests.get(f\"https://search.d3.nhle.com/api/v1/search/player?culture=en-us&limit=20&q={player_name_url}%2A\").json()\n",
    "    players = [player for player in players if player[\"name\"] == player_name] # Matching names\n",
    "    # If there are multiple players matching name, filter by other attributes\n",
    "    if len(players) > 1:\n",
    "        players = [player for player in players if player[\"lastSeasonId\"] and int(player[\"lastSeasonId\"][:4]) >= league_info.season]\n",
    "        if len(players) > 1:\n",
    "            players = [player for player in players if player[\"positionCode\"] in transaction_player.display_position.split(\",\")]\n",
    "    if len(players) != 1:\n",
    "        print(len(players), player_name, players)\n",
    "    player = players[0]\n",
    "    player_game_log = get_player_game_log_nhl(player[\"playerId\"])\n",
    "    if len(player_game_log) == 0:\n",
    "        print(f\"{player_name} didn't play any games this season\")\n",
    "        continue\n",
    "    # TODO: Consider case when someone is dropped due to injury\n",
    "    # last_game = [game_log for game_log in player_game_log if datetime.strptime(game_log[\"gameDate\"], \"%Y-%m-%d\").replace(tzinfo=timezone(timedelta(hours=-4))).date() <= transaction_date.date()]\n",
    "    # if len(last_game) == 0: # No games played before drop\n",
    "    #     first_game = player_game_log[-1]\n",
    "    #     print(f\"{player_name} didn't play any games yet\")\n",
    "    #     continue\n",
    "    # Next game could either be the same day as pickup or game after pickup\n",
    "    next_game = [game_log for game_log in player_game_log if datetime.strptime(game_log[\"gameDate\"], \"%Y-%m-%d\").replace(tzinfo=timezone(timedelta(hours=-4))).date() >= transaction_date.date()]\n",
    "    if len(next_game) == 0: # Didn't play the rest of the season\n",
    "        print(f\"{player_name} didn't play any more games\")\n",
    "        continue\n",
    "    next_game_date = next_game[-1][\"gameDate\"]\n",
    "    player_stats = query.get_player_stats_by_date(transaction_player.player_key, next_game_date)\n",
    "    points_by_team[team_key].append(player_stats.player_points.total)\n",
    "    team_name[team_key] = transaction_player.transaction_data.source_team_name\n",
    "team_average = []\n",
    "for team_key, team_points in points_by_team.items():\n",
    "    team_average.append((team_name[team_key], round(sum(team_points)/len(team_points), 1)))\n",
    "team_average = sorted(team_average, key=lambda x: x[1])\n",
    "print(team_average)"
   ]
  },
  {
   "cell_type": "code",
   "execution_count": null,
   "metadata": {},
   "outputs": [],
   "source": [
    "'''\n",
    "Biggest comeback\n",
    "52.8s\n",
    "'''\n",
    "deficits = []\n",
    "for week in range(league_start_week, league_end_week + 1):\n",
    "    matchups = get_matchups_by_week(week)\n",
    "    for matchup in matchups:\n",
    "        # Comeback win can't happen without a winner\n",
    "        if matchup.is_tied:\n",
    "            continue\n",
    "        winner_id = int(matchup.winner_team_key.split(\".\")[-1])\n",
    "        team_ids = [matchup.teams[0].team_id, matchup.teams[1].team_id]\n",
    "        team_w_idx, team_l_idx = (0, 1) if winner_id == team_ids[0] else (1, 0)\n",
    "        deficit = 0\n",
    "        start_date = datetime.strptime(matchup.week_start, \"%Y-%m-%d\")\n",
    "        end_date = datetime.strptime(matchup.week_end, \"%Y-%m-%d\")\n",
    "        # Don't include the last day since the matchup is over\n",
    "        for i in range((end_date - start_date).days):\n",
    "            current_date_str = (start_date + timedelta(days=i)).strftime(\"%Y-%m-%d\")\n",
    "            team_w_points = matchup.teams[team_w_idx].team_stats_collection[i][\"team_points\"].total\n",
    "            team_l_points = matchup.teams[team_l_idx].team_stats_collection[i][\"team_points\"].total\n",
    "            deficit = round(deficit + team_l_points - team_w_points, 1)\n",
    "            if deficit > 0:\n",
    "                deficits.append((deficit, matchup))\n",
    "biggest_deficits = sorted(deficits, key=lambda x: x[0])\n",
    "biggest_deficits = list({f\"{matchup.week}.{matchup.winner_team_key}\": (deficit, matchup) for (deficit, matchup) in biggest_deficits}.values())\n",
    "biggest_deficits = sorted(biggest_deficits, reverse=True, key=lambda x: x[0])\n",
    "print(\"Biggest comebacks\")\n",
    "for diff, matchup in biggest_deficits[:5]:\n",
    "    print(f\"{matchup.week} {matchup.teams[0].name} {matchup.teams[1].name} - {diff}\")"
   ]
  },
  {
   "cell_type": "code",
   "execution_count": null,
   "metadata": {},
   "outputs": [],
   "source": [
    "'''\n",
    "Biggest draft busts/steals\n",
    "'''\n",
    "# Get draft results\n",
    "draft_results = query.get_league_draft_results()\n",
    "draft_players = get_players([draft_result.player_key for draft_result in draft_results])\n",
    "draft_players\n",
    "draft_players_by_pos = {\"F\": [], \"D\": [], \"G\": []}\n",
    "positions_map = {\"C\": \"F\", \"LW\": \"F\", \"RW\": \"F\", \"D\": \"D\", \"G\": \"G\"}\n",
    "for draft_player in draft_players:\n",
    "    draft_players_by_pos[positions_map[draft_player.primary_position]].append(draft_player)\n",
    "# Get the top players by position\n",
    "top_players_by_pos = {\n",
    "    \"F\": get_top_n_players_by_position(len(draft_players_by_pos[\"F\"]), \"F\"), \n",
    "    \"D\": get_top_n_players_by_position(len(draft_players_by_pos[\"D\"]), \"D\"), \n",
    "    \"G\": get_top_n_players_by_position(len(draft_players_by_pos[\"G\"]), \"G\")\n",
    "}\n",
    "# Get differences between draft player and top player\n",
    "diffs = []\n",
    "for key in draft_players_by_pos:\n",
    "    for draft_player, top_player in zip(draft_players_by_pos[key], top_players_by_pos[key]):\n",
    "        diff = round(draft_player.player_points.total - top_player.player_points.total, 1)\n",
    "        diffs.append((diff, draft_player))\n",
    "biggest_diffs = sorted(diffs, reverse=True, key=lambda x: x[0])\n",
    "smallest_diffs = sorted(diffs, key=lambda x: x[0])\n",
    "print(\"Biggest draft steals\")\n",
    "for diff, player in biggest_diffs[:5]:\n",
    "    print(f\"{player.name.first} {player.name.last} - {diff}\")\n",
    "print(\"Biggest draft busts\")\n",
    "for diff, player in smallest_diffs[:5]:\n",
    "    print(f\"{player.name.first} {player.name.last} - {diff}\")"
   ]
  }
 ],
 "metadata": {
  "kernelspec": {
   "display_name": "fantasy_env",
   "language": "python",
   "name": "python3"
  },
  "language_info": {
   "codemirror_mode": {
    "name": "ipython",
    "version": 3
   },
   "file_extension": ".py",
   "mimetype": "text/x-python",
   "name": "python",
   "nbconvert_exporter": "python",
   "pygments_lexer": "ipython3",
   "version": "3.11.11"
  }
 },
 "nbformat": 4,
 "nbformat_minor": 2
}
